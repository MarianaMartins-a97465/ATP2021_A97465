{
 "cells": [
  {
   "cell_type": "markdown",
   "metadata": {},
   "source": [
    "## Aplicação para a manipulação de polinómios"
   ]
  },
  {
   "cell_type": "markdown",
   "metadata": {},
   "source": [
    "* __key name__: Tpc5\n",
    "* __Identificador do trabalho ou projeto__: Tpc5\n",
    "* __Título__: Manipulação de Polinómios\n",
    "* __Subtítulo__: Aplicação com várias funções\n",
    "* __Data Inicial__: 2021-11-11\n",
    "* __Data Fim__: 2021-11-18\n",
    "* __Supervisor__: José Carlos Ramalho,  https://www.di.uminho.pt/~jcr/\n",
    "* __Autor__: Mariana Gomes Martins, A97465\n",
    "* __Resumo__:\n",
    "\n",
    "     Um polinómio, em termos de __modelação em python__, é considerado como uma __lista de tuplos__, em cada tuplo, isto é, cada termo do polinómio é constituído por dois inteiros, o coeficiente e o expoente.  Desta forma, na manipulação de polinómios há que ter em conta que são estruturas com duas dimensões.<p> \n",
    "    A execução desta __aplicação para manipulação de polinómios__ começa por pedir ao utilizador o polinómio (função criarPolinomio()) sobre o qual pretente efetuar as operações, pedindo primeiro o nº de termos e só posteriormente o coeficiente e expoente de cada um destes.<p>\n",
    "    Para além disso, é possível calcular: o grau do polinómio; o polinómio num determinado valor x introduzido  pelo utilizador;  a sua derivada; uma tabela de valores do polinómio em função de x (x corresponde ao nº de linhas) e a simplificação do mesmo, através da função simplificarPolinomio().<p> \n",
    "    Por fim, é possível apagar todos os termos do polinómio, utilizando a função __clear__, e recomeçar a utilizar todas as operações disponíveis.\n",
    "     \n",
    "  "
   ]
  },
  {
   "cell_type": "code",
   "execution_count": 1,
   "metadata": {},
   "outputs": [],
   "source": [
    "def criarTermo(coef, exp):\n",
    "    return (coef, exp)\n",
    "\n",
    "def criarPolinomio():\n",
    "    return []\n",
    "\n",
    "def inserirTermo(p,t): #Inserir termo no polinomio\n",
    "    return p.append(t)"
   ]
  },
  {
   "cell_type": "code",
   "execution_count": 2,
   "metadata": {},
   "outputs": [],
   "source": [
    "    \n",
    "def verTermo(t): #return para poder atribuir uma variavel\n",
    "    c, e = t\n",
    "    if e==0 :\n",
    "        return str(c)\n",
    "    elif e==1:\n",
    "        return str(c) + \"x\" \n",
    "    elif c == 1:\n",
    "        return \"x^\" + str(e)\n",
    "    else:\n",
    "        return str(c) + \"x^\" + str(e)\n",
    "        \n",
    "    \n",
    "def verPolinomio(p): #polinomio é uma lista\n",
    "    politexto = \"\" #Politexto é uma string , tem de ser inicializada a string vazia , aspas!!\n",
    "    if len(p) != 0:\n",
    "        politexto = verTermo(p[0]) #Primeiro termo do polinomio p\n",
    "        for i in range(1, len(p)):\n",
    "            if p[i][0] >0 : #aceder ao coeficiente, indice 0, do termo i, tuplo, do polinomio\n",
    "                politexto = politexto +  \" + \" + verTermo(p[i])\n",
    "            else:\n",
    "                politexto = politexto + \" \" + verTermo(p[i])\n",
    "    else:\n",
    "        print(\"p = []\")\n",
    "\n",
    "    return politexto\n",
    "    "
   ]
  },
  {
   "cell_type": "markdown",
   "metadata": {},
   "source": [
    "### Calcular grau polinomio"
   ]
  },
  {
   "cell_type": "code",
   "execution_count": 3,
   "metadata": {},
   "outputs": [],
   "source": [
    "def grauPolinomio(p):\n",
    "    grau = p[0][1] #Primeiro coeficiente do primeiro termo\n",
    "    for i in range(1, len(p)):\n",
    "        if p [i][1] > grau:\n",
    "            grau = p[i][1]\n",
    "    return grau"
   ]
  },
  {
   "cell_type": "markdown",
   "metadata": {},
   "source": [
    "### Calcular valor x no polinómio"
   ]
  },
  {
   "cell_type": "code",
   "execution_count": 4,
   "metadata": {},
   "outputs": [],
   "source": [
    "def calcPolinomio(p,x):\n",
    "    valor = 0\n",
    "    for (c,e) in p:\n",
    "        valor = valor + c* x**e \n",
    "    return valor"
   ]
  },
  {
   "cell_type": "markdown",
   "metadata": {},
   "source": [
    "#### Tabela"
   ]
  },
  {
   "cell_type": "code",
   "execution_count": 23,
   "metadata": {},
   "outputs": [],
   "source": [
    "def tabela(p, linhas):\n",
    "    print(\"x\" + \" | \" + verPolinomio(p))\n",
    "    for l in range(0, linhas + 1):\n",
    "        print(str(l) + \" | \" + str(calcPolinomio(p, l)))"
   ]
  },
  {
   "cell_type": "markdown",
   "metadata": {},
   "source": [
    "#### Derivada"
   ]
  },
  {
   "cell_type": "code",
   "execution_count": 24,
   "metadata": {},
   "outputs": [],
   "source": [
    "def derivadaPolinomio(p):\n",
    "    derivada = []\n",
    "    for (c,e) in p:\n",
    "        if e != 0: #Se expoente for igual a zero , não há termo na derivada -----> condição se for diferente de zero\n",
    "            derivada.append((c*e, e-1))\n",
    "    return verPolinomio(derivada)"
   ]
  },
  {
   "cell_type": "markdown",
   "metadata": {},
   "source": [
    "#### Simplificar o Polinómio"
   ]
  },
  {
   "cell_type": "code",
   "execution_count": 65,
   "metadata": {},
   "outputs": [],
   "source": [
    "def critOrd(t):\n",
    "    c,e = t\n",
    "    return e\n",
    "\n",
    "def ordenarPol(p):\n",
    "    p.sort(key=critOrd, reverse = True) #Ordenar polinomio por expoente; ordem inversa.\n",
    "    return p\n",
    "\n",
    "\n",
    "def simplificarPolinomio(p):\n",
    "    ordenarPol(p)\n",
    "    novoPol = []\n",
    "    \n",
    "    for i in range(1,len(p)):\n",
    "        coef0, exp0 = p[i-1] #Ir comparando termo anterior com o posterior\n",
    "        coef1,exp1 = p[i]\n",
    "        \n",
    "        \n",
    "        if exp0 == exp1:\n",
    "            novoPol.append(criarTermo(coef0 + coef1, exp0))\n",
    "        else:\n",
    "            if exp0 > exp1:  \n",
    "                if i==1:\n",
    "                    novoPol.append(criarTermo(coef0,exp0))\n",
    "                    \n",
    "                 #Se nao é o 1º termo, o novo termo já tinha sido criado na condiçao anterior\n",
    "           # Expoente termo anterior nunca será menor que o termo seguinte, uma vez que o polinomio está ordenado.\n",
    "    return(verPolinomio(novoPol)) \n",
    "\n",
    "        \n",
    "    "
   ]
  },
  {
   "cell_type": "code",
   "execution_count": 66,
   "metadata": {},
   "outputs": [
    {
     "name": "stdout",
     "output_type": "stream",
     "text": [
      "[(4, 3), (-1, 3), (-1, 2), (3, 2), (-5, 2), (-2, 0), (10, 0)]\n",
      "3x^3 + 2x^2 -2x^2 + 10\n"
     ]
    }
   ],
   "source": [
    "#print(simplificarPolinomio([(7,5),(3,2),(4,5),(-7,0)]))\n",
    "print(ordenarPol([(-1,2),(4,3), (-2,0), (3,2), (-5,2), (-1,3),(10,0)]))\n",
    "print(simplificarPolinomio([(-1,2),(4,3), (-2,0), (3,2), (-5,2), (-1,3),(12,0)]))"
   ]
  },
  {
   "cell_type": "markdown",
   "metadata": {},
   "source": [
    "#### Função Menu"
   ]
  },
  {
   "cell_type": "code",
   "execution_count": 59,
   "metadata": {},
   "outputs": [
    {
     "name": "stdout",
     "output_type": "stream",
     "text": [
      " (1) Criar um polinómio;\n",
      "    (2) Listar / Ver polinómio no stdout;\n",
      "    (3) Grau do polinómio;\n",
      "    (4) Calcular polinómio num ponto;\n",
      "    (5) Calcular derivada de um polinómio;\n",
      "    (6) Simlificar o polinómio;\n",
      "    (7) Apresentar tabela;\n",
      "    (8) Apagar polinómio;\n",
      "    (0) Sair\n"
     ]
    },
    {
     "name": "stdin",
     "output_type": "stream",
     "text": [
      "Introduza uma opção:  1\n",
      "Introduza o nº de termos do polinómio:  4\n",
      "Introduza o valor do coeficiente:  3\n",
      "Introduza o valor do expoente:  5\n"
     ]
    },
    {
     "name": "stdout",
     "output_type": "stream",
     "text": [
      "3x^5\n"
     ]
    },
    {
     "name": "stdin",
     "output_type": "stream",
     "text": [
      "Introduza o valor do coeficiente:  6\n",
      "Introduza o valor do expoente:  7\n"
     ]
    },
    {
     "name": "stdout",
     "output_type": "stream",
     "text": [
      "6x^7\n"
     ]
    },
    {
     "name": "stdin",
     "output_type": "stream",
     "text": [
      "Introduza o valor do coeficiente:  2\n",
      "Introduza o valor do expoente:  5\n"
     ]
    },
    {
     "name": "stdout",
     "output_type": "stream",
     "text": [
      "2x^5\n"
     ]
    },
    {
     "name": "stdin",
     "output_type": "stream",
     "text": [
      "Introduza o valor do coeficiente:  7\n",
      "Introduza o valor do expoente:  0\n"
     ]
    },
    {
     "name": "stdout",
     "output_type": "stream",
     "text": [
      "7\n",
      " (1) Criar um polinómio;\n",
      "    (2) Listar / Ver polinómio no stdout;\n",
      "    (3) Grau do polinómio;\n",
      "    (4) Calcular polinómio num ponto;\n",
      "    (5) Calcular derivada de um polinómio;\n",
      "    (6) Simlificar o polinómio;\n",
      "    (7) Apresentar tabela;\n",
      "    (8) Apagar polinómio;\n",
      "    (0) Sair\n"
     ]
    },
    {
     "name": "stdin",
     "output_type": "stream",
     "text": [
      "Introduza uma opção:  2\n"
     ]
    },
    {
     "name": "stdout",
     "output_type": "stream",
     "text": [
      "3x^5 + 6x^7 + 2x^5 + 7\n",
      " (1) Criar um polinómio;\n",
      "    (2) Listar / Ver polinómio no stdout;\n",
      "    (3) Grau do polinómio;\n",
      "    (4) Calcular polinómio num ponto;\n",
      "    (5) Calcular derivada de um polinómio;\n",
      "    (6) Simlificar o polinómio;\n",
      "    (7) Apresentar tabela;\n",
      "    (8) Apagar polinómio;\n",
      "    (0) Sair\n"
     ]
    },
    {
     "name": "stdin",
     "output_type": "stream",
     "text": [
      "Introduza uma opção:  3\n"
     ]
    },
    {
     "name": "stdout",
     "output_type": "stream",
     "text": [
      "O grau do polinómio 3x^5 + 6x^7 + 2x^5 + 7 é: 7 .\n",
      " (1) Criar um polinómio;\n",
      "    (2) Listar / Ver polinómio no stdout;\n",
      "    (3) Grau do polinómio;\n",
      "    (4) Calcular polinómio num ponto;\n",
      "    (5) Calcular derivada de um polinómio;\n",
      "    (6) Simlificar o polinómio;\n",
      "    (7) Apresentar tabela;\n",
      "    (8) Apagar polinómio;\n",
      "    (0) Sair\n"
     ]
    },
    {
     "name": "stdin",
     "output_type": "stream",
     "text": [
      "Introduza uma opção:  4\n",
      "Introduza o valor de x no qual pretende calcular o polinómio:  1\n"
     ]
    },
    {
     "name": "stdout",
     "output_type": "stream",
     "text": [
      "O valor do polinómio 3x^5 + 6x^7 + 2x^5 + 7 em 1 é: 18 .\n",
      " (1) Criar um polinómio;\n",
      "    (2) Listar / Ver polinómio no stdout;\n",
      "    (3) Grau do polinómio;\n",
      "    (4) Calcular polinómio num ponto;\n",
      "    (5) Calcular derivada de um polinómio;\n",
      "    (6) Simlificar o polinómio;\n",
      "    (7) Apresentar tabela;\n",
      "    (8) Apagar polinómio;\n",
      "    (0) Sair\n"
     ]
    },
    {
     "name": "stdin",
     "output_type": "stream",
     "text": [
      "Introduza uma opção:  5\n"
     ]
    },
    {
     "name": "stdout",
     "output_type": "stream",
     "text": [
      "A derivada do polinómio 3x^5 + 6x^7 + 2x^5 + 7 é: 15x^4 + 42x^6 + 10x^4\n",
      " (1) Criar um polinómio;\n",
      "    (2) Listar / Ver polinómio no stdout;\n",
      "    (3) Grau do polinómio;\n",
      "    (4) Calcular polinómio num ponto;\n",
      "    (5) Calcular derivada de um polinómio;\n",
      "    (6) Simlificar o polinómio;\n",
      "    (7) Apresentar tabela;\n",
      "    (8) Apagar polinómio;\n",
      "    (0) Sair\n"
     ]
    },
    {
     "name": "stdin",
     "output_type": "stream",
     "text": [
      "Introduza uma opção:  6\n"
     ]
    },
    {
     "name": "stdout",
     "output_type": "stream",
     "text": [
      "O polinómio simplificado é: 6x^7 + 5x^5\n",
      " (1) Criar um polinómio;\n",
      "    (2) Listar / Ver polinómio no stdout;\n",
      "    (3) Grau do polinómio;\n",
      "    (4) Calcular polinómio num ponto;\n",
      "    (5) Calcular derivada de um polinómio;\n",
      "    (6) Simlificar o polinómio;\n",
      "    (7) Apresentar tabela;\n",
      "    (8) Apagar polinómio;\n",
      "    (0) Sair\n"
     ]
    },
    {
     "name": "stdin",
     "output_type": "stream",
     "text": [
      "Introduza uma opção:  7\n",
      "Introduza o nº de valores em que pretende calcular o polinómio:  5\n"
     ]
    },
    {
     "name": "stdout",
     "output_type": "stream",
     "text": [
      "x | 6x^7 + 3x^5 + 2x^5 + 7\n",
      "0 | 7\n",
      "1 | 18\n",
      "2 | 935\n",
      "3 | 14344\n",
      "4 | 103431\n",
      "5 | 484382\n",
      "None\n",
      " (1) Criar um polinómio;\n",
      "    (2) Listar / Ver polinómio no stdout;\n",
      "    (3) Grau do polinómio;\n",
      "    (4) Calcular polinómio num ponto;\n",
      "    (5) Calcular derivada de um polinómio;\n",
      "    (6) Simlificar o polinómio;\n",
      "    (7) Apresentar tabela;\n",
      "    (8) Apagar polinómio;\n",
      "    (0) Sair\n"
     ]
    },
    {
     "name": "stdin",
     "output_type": "stream",
     "text": [
      "Introduza uma opção:  0\n"
     ]
    },
    {
     "name": "stdout",
     "output_type": "stream",
     "text": [
      "Terminou!\n"
     ]
    }
   ],
   "source": [
    "def menu():\n",
    "    print(\"\"\" (1) Criar um polinómio;\n",
    "    (2) Listar / Ver polinómio no stdout;\n",
    "    (3) Grau do polinómio;\n",
    "    (4) Calcular polinómio num ponto;\n",
    "    (5) Calcular derivada de um polinómio;\n",
    "    (6) Simlificar o polinómio;\n",
    "    (7) Apresentar tabela;\n",
    "    (8) Apagar polinómio;\n",
    "    (0) Sair\"\"\")\n",
    "    \n",
    "     \n",
    "    \n",
    "    \n",
    "p = []\n",
    "opcao = \"-1\"\n",
    "while opcao != \"0\":\n",
    "    menu()\n",
    "    opcao= input(\"Introduza uma opção: \")\n",
    "    if opcao == \"1\":\n",
    "        termos = int(input(\"Introduza o nº de termos do polinómio: \"))\n",
    "        while termos !=0:\n",
    "            coeficiente = int(input(\"Introduza o valor do coeficiente: \"))\n",
    "            expoente= int(input(\"Introduza o valor do expoente: \"))\n",
    "            t = ((coeficiente, expoente))\n",
    "            print(verTermo(t))\n",
    "            p.append(criarTermo(coeficiente, expoente))\n",
    "            termos = termos - 1\n",
    "            \n",
    "\n",
    "        \n",
    "    elif opcao==\"2\":\n",
    "        print(verPolinomio(p))\n",
    "        \n",
    "        \n",
    "    elif opcao == \"3\":\n",
    "        g = grauPolinomio(p)\n",
    "        print(\"O grau do polinómio\",verPolinomio(p),\"é:\", g,\".\")\n",
    "              \n",
    "        \n",
    "    elif opcao == \"4\":\n",
    "          x = int(input(\"Introduza o valor de x no qual pretende calcular o polinómio: \"))\n",
    "          c = calcPolinomio(p,x)\n",
    "          print(\"O valor do polinómio\",verPolinomio(p),\"em\",x,\"é:\", c,\".\")\n",
    "             \n",
    "    elif opcao ==\"5\":\n",
    "        d = derivadaPolinomio(p)\n",
    "        print(\"A derivada do polinómio\",verPolinomio(p),\"é:\",d)\n",
    "        \n",
    "    elif opcao == \"6\":\n",
    "        s = simplificarPolinomio(p)\n",
    "        print(\"O polinómio simplificado é:\", s)\n",
    "        \n",
    "        \n",
    "    elif opcao == \"7\":\n",
    "        linhas = int(input(\"Introduza o nº de valores em que pretende calcular o polinómio: \"))\n",
    "        print(tabela(p,linhas))\n",
    "        \n",
    "        \n",
    "    elif opcao ==\"8\":\n",
    "        p.clear()\n",
    "        \n",
    "    elif opcao == \"0\":\n",
    "        print(\"Terminou!\")\n",
    "        \n",
    "        \n",
    "    else: \n",
    "        print(\"Opção Inválida!\")"
   ]
  },
  {
   "cell_type": "code",
   "execution_count": null,
   "metadata": {},
   "outputs": [],
   "source": []
  },
  {
   "cell_type": "code",
   "execution_count": null,
   "metadata": {},
   "outputs": [],
   "source": []
  }
 ],
 "metadata": {
  "kernelspec": {
   "display_name": "Python 3",
   "language": "python",
   "name": "python3"
  },
  "language_info": {
   "codemirror_mode": {
    "name": "ipython",
    "version": 3
   },
   "file_extension": ".py",
   "mimetype": "text/x-python",
   "name": "python",
   "nbconvert_exporter": "python",
   "pygments_lexer": "ipython3",
   "version": "3.8.3"
  }
 },
 "nbformat": 4,
 "nbformat_minor": 4
}
