{
 "cells": [
  {
   "cell_type": "markdown",
   "metadata": {},
   "source": [
    "## Aplicação para a manipulação de frações"
   ]
  },
  {
   "cell_type": "markdown",
   "metadata": {},
   "source": [
    "* __key name__: Tpc4\n",
    "* __Identificador do trabalho ou projeto__: Tpc4\n",
    "* __Título__: Manipulação de frações\n",
    "* __Subtítulo__: Aplicação com várias funções\n",
    "* __Data Inicial__: 2021-11-04\n",
    "* __Data Fim__: 2021-11-11\n",
    "* __Supervisor__: José Carlos Ramalho,  https://www.di.uminho.pt/~jcr/\n",
    "* __Autor__: Mariana Gomes Martins, A97465\n",
    "* __Resumo__:\n",
    "\n",
    "     Uma fração, em termos de __modelação em python__, é considerada como um __tuplo de dois inteiros__, o numerador e o denominador.\n",
    "    Na verdade, a manipulação de frações consiste na manipulação de tuplos, estrutura de dados a que está associado um conjunto de ferramentas específico.  \n",
    "     Na realização desta aplicação para manipulação de frações, pede-se ao utilizador que introduza uma fração sendo esta armazenada numa lista, através da função __append__ . Desta forma, não só é possivel realizar uma operação entre duas frações inseridas no momento, como também se podem aplicar a todas as anteriormente inseridas. Por fim, é possível apagar todos os elementos da lista, utilizando a função __clear__, e recomeçar a utilizar todas as operações disponíveis.\n",
    "    \n",
    "    "
   ]
  },
  {
   "cell_type": "code",
   "execution_count": 2,
   "metadata": {},
   "outputs": [],
   "source": [
    "def criarFracao(numerador, denominador):\n",
    "    return (numerador, denominador)\n"
   ]
  },
  {
   "cell_type": "code",
   "execution_count": 3,
   "metadata": {},
   "outputs": [],
   "source": [
    "def verFracao(f):\n",
    "    n, d = f #desmembrar o tuplo\n",
    "    print(str(n) + \"/\" + str(d))\n",
    "    "
   ]
  },
  {
   "cell_type": "code",
   "execution_count": 4,
   "metadata": {},
   "outputs": [],
   "source": [
    "def mdc(a,b):\n",
    "    res = 1\n",
    "    if a > b: #quando dava errado, queremos ciclo controlado pelo valor menor\n",
    "        a, b = b, a #Troca de variaveis     \n",
    "    for i in range(2,a+1): #Percorre todo a lista\n",
    "        if (a%i == 0) and (b%i == 0):\n",
    "            res = i\n",
    "    return res\n",
    "\n",
    "            "
   ]
  },
  {
   "cell_type": "code",
   "execution_count": 5,
   "metadata": {},
   "outputs": [],
   "source": [
    "def mdc2(a,b):\n",
    "    if a < b:\n",
    "        return mdc(b,a)\n",
    "    elif a%b == 0:\n",
    "        return b\n",
    "    else:\n",
    "        return mdc(a, a%b)\n",
    "    "
   ]
  },
  {
   "cell_type": "code",
   "execution_count": 6,
   "metadata": {},
   "outputs": [],
   "source": [
    "def simplificarFracao(f):\n",
    "    n, d  = f # Desmembrar o tuplo\n",
    "    m = mdc2(n,d) #Mdc entre n e d\n",
    "    return(int(n/m), int(d/m)) # retorna fração simplificada na forma tuplo - Converter para inteiro"
   ]
  },
  {
   "cell_type": "code",
   "execution_count": 7,
   "metadata": {},
   "outputs": [],
   "source": [
    "def somarFracao(f1, f2):\n",
    "    n1, d1 = f1\n",
    "    n2, d2 = f2\n",
    "    return simplificarFracao((n1*d2 + n2*d1, d1*d2))\n"
   ]
  },
  {
   "cell_type": "code",
   "execution_count": 8,
   "metadata": {},
   "outputs": [
    {
     "name": "stdout",
     "output_type": "stream",
     "text": [
      "13/14\n"
     ]
    }
   ],
   "source": [
    "#Testar Funções\n",
    "f1 = criarFracao(3,14)\n",
    "f2 = criarFracao(5,7)\n",
    "verFracao(somarFracao(f1, f2))"
   ]
  },
  {
   "cell_type": "code",
   "execution_count": 9,
   "metadata": {},
   "outputs": [],
   "source": [
    "def subtrairFracao(f1, f2):\n",
    "    n1, d1 = f1\n",
    "    n2, d2 = f2\n",
    "    return simplificarFracao((n1*d2 - n2*d1, d1*d2))\n",
    "    "
   ]
  },
  {
   "cell_type": "code",
   "execution_count": 10,
   "metadata": {},
   "outputs": [
    {
     "name": "stdout",
     "output_type": "stream",
     "text": [
      "-49/98\n"
     ]
    }
   ],
   "source": [
    "f1 = criarFracao(3,14)\n",
    "f2 = criarFracao(5,7)\n",
    "verFracao(subtrairFracao(f1, f2))"
   ]
  },
  {
   "cell_type": "code",
   "execution_count": 11,
   "metadata": {},
   "outputs": [],
   "source": [
    "def dividirFracao(f1, f2): #Multiplicar pelo inverso\n",
    "    n1, d1 = f1\n",
    "    n2, d2 = f2\n",
    "    n2, d2 = d2, n2 #Troca de valores\n",
    "    return simplificarFracao((n1*n2, d1*d2))\n",
    "    "
   ]
  },
  {
   "cell_type": "code",
   "execution_count": 12,
   "metadata": {},
   "outputs": [
    {
     "name": "stdout",
     "output_type": "stream",
     "text": [
      "1/4\n"
     ]
    }
   ],
   "source": [
    "f1 = criarFracao(3,4)\n",
    "f2 = criarFracao(9,3)\n",
    "verFracao(dividirFracao(f1,f2))"
   ]
  },
  {
   "cell_type": "code",
   "execution_count": 13,
   "metadata": {},
   "outputs": [],
   "source": [
    "def multiplicarFracao(f1, f2):\n",
    "    n1, d1 = f1 #Desmembrar o tuplo\n",
    "    n2, d2 = f2\n",
    "    return simplificarFracao((n1*n2, d1*d2))\n",
    "    "
   ]
  },
  {
   "cell_type": "code",
   "execution_count": 14,
   "metadata": {},
   "outputs": [
    {
     "name": "stdout",
     "output_type": "stream",
     "text": [
      "5/6\n"
     ]
    }
   ],
   "source": [
    "f1 = criarFracao(5,4)\n",
    "f2 = criarFracao(2,3)\n",
    "verFracao(multiplicarFracao(f1, f2))"
   ]
  },
  {
   "cell_type": "markdown",
   "metadata": {},
   "source": [
    "### Função Menu"
   ]
  },
  {
   "cell_type": "code",
   "execution_count": 15,
   "metadata": {},
   "outputs": [
    {
     "name": "stdout",
     "output_type": "stream",
     "text": [
      " (1) Criar fração manualmente;\n",
      "    (2) Escrever frações já criadas no stdout;\n",
      "    (3) Somar frações;\n",
      "    (4) Subtrair frações;\n",
      "    (5) Dividir frações;\n",
      "    (6) Multiplicar frações;\n",
      "    (7) Limpar elementos da lista;\n",
      "    (0) Sair\n"
     ]
    },
    {
     "name": "stdin",
     "output_type": "stream",
     "text": [
      "Introduza uma opção:  1\n",
      "Introduza o valor do numerador:  1\n",
      "Introduza o valor do denominador:  4\n"
     ]
    },
    {
     "name": "stdout",
     "output_type": "stream",
     "text": [
      " (1) Criar fração manualmente;\n",
      "    (2) Escrever frações já criadas no stdout;\n",
      "    (3) Somar frações;\n",
      "    (4) Subtrair frações;\n",
      "    (5) Dividir frações;\n",
      "    (6) Multiplicar frações;\n",
      "    (7) Limpar elementos da lista;\n",
      "    (0) Sair\n"
     ]
    },
    {
     "name": "stdin",
     "output_type": "stream",
     "text": [
      "Introduza uma opção:  1\n",
      "Introduza o valor do numerador:  3\n",
      "Introduza o valor do denominador:  4\n"
     ]
    },
    {
     "name": "stdout",
     "output_type": "stream",
     "text": [
      " (1) Criar fração manualmente;\n",
      "    (2) Escrever frações já criadas no stdout;\n",
      "    (3) Somar frações;\n",
      "    (4) Subtrair frações;\n",
      "    (5) Dividir frações;\n",
      "    (6) Multiplicar frações;\n",
      "    (7) Limpar elementos da lista;\n",
      "    (0) Sair\n"
     ]
    },
    {
     "name": "stdin",
     "output_type": "stream",
     "text": [
      "Introduza uma opção:  2\n"
     ]
    },
    {
     "name": "stdout",
     "output_type": "stream",
     "text": [
      "[(1, 4), (3, 4)]\n",
      " (1) Criar fração manualmente;\n",
      "    (2) Escrever frações já criadas no stdout;\n",
      "    (3) Somar frações;\n",
      "    (4) Subtrair frações;\n",
      "    (5) Dividir frações;\n",
      "    (6) Multiplicar frações;\n",
      "    (7) Limpar elementos da lista;\n",
      "    (0) Sair\n"
     ]
    },
    {
     "name": "stdin",
     "output_type": "stream",
     "text": [
      "Introduza uma opção:  3\n"
     ]
    },
    {
     "name": "stdout",
     "output_type": "stream",
     "text": [
      "(1, 1)\n",
      " (1) Criar fração manualmente;\n",
      "    (2) Escrever frações já criadas no stdout;\n",
      "    (3) Somar frações;\n",
      "    (4) Subtrair frações;\n",
      "    (5) Dividir frações;\n",
      "    (6) Multiplicar frações;\n",
      "    (7) Limpar elementos da lista;\n",
      "    (0) Sair\n"
     ]
    },
    {
     "name": "stdin",
     "output_type": "stream",
     "text": [
      "Introduza uma opção:  1\n",
      "Introduza o valor do numerador:  5\n",
      "Introduza o valor do denominador:  4\n"
     ]
    },
    {
     "name": "stdout",
     "output_type": "stream",
     "text": [
      " (1) Criar fração manualmente;\n",
      "    (2) Escrever frações já criadas no stdout;\n",
      "    (3) Somar frações;\n",
      "    (4) Subtrair frações;\n",
      "    (5) Dividir frações;\n",
      "    (6) Multiplicar frações;\n",
      "    (7) Limpar elementos da lista;\n",
      "    (0) Sair\n"
     ]
    },
    {
     "name": "stdin",
     "output_type": "stream",
     "text": [
      "Introduza uma opção:  2\n"
     ]
    },
    {
     "name": "stdout",
     "output_type": "stream",
     "text": [
      "[(1, 4), (3, 4), (5, 4)]\n",
      " (1) Criar fração manualmente;\n",
      "    (2) Escrever frações já criadas no stdout;\n",
      "    (3) Somar frações;\n",
      "    (4) Subtrair frações;\n",
      "    (5) Dividir frações;\n",
      "    (6) Multiplicar frações;\n",
      "    (7) Limpar elementos da lista;\n",
      "    (0) Sair\n"
     ]
    },
    {
     "name": "stdin",
     "output_type": "stream",
     "text": [
      "Introduza uma opção:  3\n"
     ]
    },
    {
     "name": "stdout",
     "output_type": "stream",
     "text": [
      "(9, 4)\n",
      " (1) Criar fração manualmente;\n",
      "    (2) Escrever frações já criadas no stdout;\n",
      "    (3) Somar frações;\n",
      "    (4) Subtrair frações;\n",
      "    (5) Dividir frações;\n",
      "    (6) Multiplicar frações;\n",
      "    (7) Limpar elementos da lista;\n",
      "    (0) Sair\n"
     ]
    },
    {
     "name": "stdin",
     "output_type": "stream",
     "text": [
      "Introduza uma opção:  7\n"
     ]
    },
    {
     "name": "stdout",
     "output_type": "stream",
     "text": [
      " (1) Criar fração manualmente;\n",
      "    (2) Escrever frações já criadas no stdout;\n",
      "    (3) Somar frações;\n",
      "    (4) Subtrair frações;\n",
      "    (5) Dividir frações;\n",
      "    (6) Multiplicar frações;\n",
      "    (7) Limpar elementos da lista;\n",
      "    (0) Sair\n"
     ]
    },
    {
     "name": "stdin",
     "output_type": "stream",
     "text": [
      "Introduza uma opção:  1\n",
      "Introduza o valor do numerador:  5\n",
      "Introduza o valor do denominador:  6\n"
     ]
    },
    {
     "name": "stdout",
     "output_type": "stream",
     "text": [
      " (1) Criar fração manualmente;\n",
      "    (2) Escrever frações já criadas no stdout;\n",
      "    (3) Somar frações;\n",
      "    (4) Subtrair frações;\n",
      "    (5) Dividir frações;\n",
      "    (6) Multiplicar frações;\n",
      "    (7) Limpar elementos da lista;\n",
      "    (0) Sair\n"
     ]
    },
    {
     "name": "stdin",
     "output_type": "stream",
     "text": [
      "Introduza uma opção:  1\n",
      "Introduza o valor do numerador:  1\n",
      "Introduza o valor do denominador:  6\n"
     ]
    },
    {
     "name": "stdout",
     "output_type": "stream",
     "text": [
      " (1) Criar fração manualmente;\n",
      "    (2) Escrever frações já criadas no stdout;\n",
      "    (3) Somar frações;\n",
      "    (4) Subtrair frações;\n",
      "    (5) Dividir frações;\n",
      "    (6) Multiplicar frações;\n",
      "    (7) Limpar elementos da lista;\n",
      "    (0) Sair\n"
     ]
    },
    {
     "name": "stdin",
     "output_type": "stream",
     "text": [
      "Introduza uma opção:  2\n"
     ]
    },
    {
     "name": "stdout",
     "output_type": "stream",
     "text": [
      "[(5, 6), (1, 6)]\n",
      " (1) Criar fração manualmente;\n",
      "    (2) Escrever frações já criadas no stdout;\n",
      "    (3) Somar frações;\n",
      "    (4) Subtrair frações;\n",
      "    (5) Dividir frações;\n",
      "    (6) Multiplicar frações;\n",
      "    (7) Limpar elementos da lista;\n",
      "    (0) Sair\n"
     ]
    },
    {
     "name": "stdin",
     "output_type": "stream",
     "text": [
      "Introduza uma opção:  4\n"
     ]
    },
    {
     "name": "stdout",
     "output_type": "stream",
     "text": [
      "(2, 3)\n",
      " (1) Criar fração manualmente;\n",
      "    (2) Escrever frações já criadas no stdout;\n",
      "    (3) Somar frações;\n",
      "    (4) Subtrair frações;\n",
      "    (5) Dividir frações;\n",
      "    (6) Multiplicar frações;\n",
      "    (7) Limpar elementos da lista;\n",
      "    (0) Sair\n"
     ]
    },
    {
     "name": "stdin",
     "output_type": "stream",
     "text": [
      "Introduza uma opção:  1\n",
      "Introduza o valor do numerador:  2\n",
      "Introduza o valor do denominador:  6\n"
     ]
    },
    {
     "name": "stdout",
     "output_type": "stream",
     "text": [
      " (1) Criar fração manualmente;\n",
      "    (2) Escrever frações já criadas no stdout;\n",
      "    (3) Somar frações;\n",
      "    (4) Subtrair frações;\n",
      "    (5) Dividir frações;\n",
      "    (6) Multiplicar frações;\n",
      "    (7) Limpar elementos da lista;\n",
      "    (0) Sair\n"
     ]
    },
    {
     "name": "stdin",
     "output_type": "stream",
     "text": [
      "Introduza uma opção:  2\n"
     ]
    },
    {
     "name": "stdout",
     "output_type": "stream",
     "text": [
      "[(5, 6), (1, 6), (2, 6)]\n",
      " (1) Criar fração manualmente;\n",
      "    (2) Escrever frações já criadas no stdout;\n",
      "    (3) Somar frações;\n",
      "    (4) Subtrair frações;\n",
      "    (5) Dividir frações;\n",
      "    (6) Multiplicar frações;\n",
      "    (7) Limpar elementos da lista;\n",
      "    (0) Sair\n"
     ]
    },
    {
     "name": "stdin",
     "output_type": "stream",
     "text": [
      "Introduza uma opção:  4\n"
     ]
    },
    {
     "name": "stdout",
     "output_type": "stream",
     "text": [
      "(1, 3)\n",
      " (1) Criar fração manualmente;\n",
      "    (2) Escrever frações já criadas no stdout;\n",
      "    (3) Somar frações;\n",
      "    (4) Subtrair frações;\n",
      "    (5) Dividir frações;\n",
      "    (6) Multiplicar frações;\n",
      "    (7) Limpar elementos da lista;\n",
      "    (0) Sair\n"
     ]
    },
    {
     "name": "stdin",
     "output_type": "stream",
     "text": [
      "Introduza uma opção:  7\n"
     ]
    },
    {
     "name": "stdout",
     "output_type": "stream",
     "text": [
      " (1) Criar fração manualmente;\n",
      "    (2) Escrever frações já criadas no stdout;\n",
      "    (3) Somar frações;\n",
      "    (4) Subtrair frações;\n",
      "    (5) Dividir frações;\n",
      "    (6) Multiplicar frações;\n",
      "    (7) Limpar elementos da lista;\n",
      "    (0) Sair\n"
     ]
    },
    {
     "name": "stdin",
     "output_type": "stream",
     "text": [
      "Introduza uma opção:  1\n",
      "Introduza o valor do numerador:  5\n",
      "Introduza o valor do denominador:  4\n"
     ]
    },
    {
     "name": "stdout",
     "output_type": "stream",
     "text": [
      " (1) Criar fração manualmente;\n",
      "    (2) Escrever frações já criadas no stdout;\n",
      "    (3) Somar frações;\n",
      "    (4) Subtrair frações;\n",
      "    (5) Dividir frações;\n",
      "    (6) Multiplicar frações;\n",
      "    (7) Limpar elementos da lista;\n",
      "    (0) Sair\n"
     ]
    },
    {
     "name": "stdin",
     "output_type": "stream",
     "text": [
      "Introduza uma opção:  1\n",
      "Introduza o valor do numerador:  3\n",
      "Introduza o valor do denominador:  5\n"
     ]
    },
    {
     "name": "stdout",
     "output_type": "stream",
     "text": [
      " (1) Criar fração manualmente;\n",
      "    (2) Escrever frações já criadas no stdout;\n",
      "    (3) Somar frações;\n",
      "    (4) Subtrair frações;\n",
      "    (5) Dividir frações;\n",
      "    (6) Multiplicar frações;\n",
      "    (7) Limpar elementos da lista;\n",
      "    (0) Sair\n"
     ]
    },
    {
     "name": "stdin",
     "output_type": "stream",
     "text": [
      "Introduza uma opção:  2\n"
     ]
    },
    {
     "name": "stdout",
     "output_type": "stream",
     "text": [
      "[(5, 4), (3, 5)]\n",
      " (1) Criar fração manualmente;\n",
      "    (2) Escrever frações já criadas no stdout;\n",
      "    (3) Somar frações;\n",
      "    (4) Subtrair frações;\n",
      "    (5) Dividir frações;\n",
      "    (6) Multiplicar frações;\n",
      "    (7) Limpar elementos da lista;\n",
      "    (0) Sair\n"
     ]
    },
    {
     "name": "stdin",
     "output_type": "stream",
     "text": [
      "Introduza uma opção:  5\n"
     ]
    },
    {
     "name": "stdout",
     "output_type": "stream",
     "text": [
      "(25, 12)\n",
      " (1) Criar fração manualmente;\n",
      "    (2) Escrever frações já criadas no stdout;\n",
      "    (3) Somar frações;\n",
      "    (4) Subtrair frações;\n",
      "    (5) Dividir frações;\n",
      "    (6) Multiplicar frações;\n",
      "    (7) Limpar elementos da lista;\n",
      "    (0) Sair\n"
     ]
    },
    {
     "name": "stdin",
     "output_type": "stream",
     "text": [
      "Introduza uma opção:  1\n",
      "Introduza o valor do numerador:  5\n",
      "Introduza o valor do denominador:  3\n"
     ]
    },
    {
     "name": "stdout",
     "output_type": "stream",
     "text": [
      " (1) Criar fração manualmente;\n",
      "    (2) Escrever frações já criadas no stdout;\n",
      "    (3) Somar frações;\n",
      "    (4) Subtrair frações;\n",
      "    (5) Dividir frações;\n",
      "    (6) Multiplicar frações;\n",
      "    (7) Limpar elementos da lista;\n",
      "    (0) Sair\n"
     ]
    },
    {
     "name": "stdin",
     "output_type": "stream",
     "text": [
      "Introduza uma opção:  2\n"
     ]
    },
    {
     "name": "stdout",
     "output_type": "stream",
     "text": [
      "[(5, 4), (3, 5), (5, 3)]\n",
      " (1) Criar fração manualmente;\n",
      "    (2) Escrever frações já criadas no stdout;\n",
      "    (3) Somar frações;\n",
      "    (4) Subtrair frações;\n",
      "    (5) Dividir frações;\n",
      "    (6) Multiplicar frações;\n",
      "    (7) Limpar elementos da lista;\n",
      "    (0) Sair\n"
     ]
    },
    {
     "name": "stdin",
     "output_type": "stream",
     "text": [
      "Introduza uma opção:  5\n"
     ]
    },
    {
     "name": "stdout",
     "output_type": "stream",
     "text": [
      "(5, 4)\n",
      " (1) Criar fração manualmente;\n",
      "    (2) Escrever frações já criadas no stdout;\n",
      "    (3) Somar frações;\n",
      "    (4) Subtrair frações;\n",
      "    (5) Dividir frações;\n",
      "    (6) Multiplicar frações;\n",
      "    (7) Limpar elementos da lista;\n",
      "    (0) Sair\n"
     ]
    },
    {
     "name": "stdin",
     "output_type": "stream",
     "text": [
      "Introduza uma opção:  7\n"
     ]
    },
    {
     "name": "stdout",
     "output_type": "stream",
     "text": [
      " (1) Criar fração manualmente;\n",
      "    (2) Escrever frações já criadas no stdout;\n",
      "    (3) Somar frações;\n",
      "    (4) Subtrair frações;\n",
      "    (5) Dividir frações;\n",
      "    (6) Multiplicar frações;\n",
      "    (7) Limpar elementos da lista;\n",
      "    (0) Sair\n"
     ]
    },
    {
     "name": "stdin",
     "output_type": "stream",
     "text": [
      "Introduza uma opção:  1\n",
      "Introduza o valor do numerador:  1\n",
      "Introduza o valor do denominador:  2\n"
     ]
    },
    {
     "name": "stdout",
     "output_type": "stream",
     "text": [
      " (1) Criar fração manualmente;\n",
      "    (2) Escrever frações já criadas no stdout;\n",
      "    (3) Somar frações;\n",
      "    (4) Subtrair frações;\n",
      "    (5) Dividir frações;\n",
      "    (6) Multiplicar frações;\n",
      "    (7) Limpar elementos da lista;\n",
      "    (0) Sair\n"
     ]
    },
    {
     "name": "stdin",
     "output_type": "stream",
     "text": [
      "Introduza uma opção:  1\n",
      "Introduza o valor do numerador:  3\n",
      "Introduza o valor do denominador:  4\n"
     ]
    },
    {
     "name": "stdout",
     "output_type": "stream",
     "text": [
      " (1) Criar fração manualmente;\n",
      "    (2) Escrever frações já criadas no stdout;\n",
      "    (3) Somar frações;\n",
      "    (4) Subtrair frações;\n",
      "    (5) Dividir frações;\n",
      "    (6) Multiplicar frações;\n",
      "    (7) Limpar elementos da lista;\n",
      "    (0) Sair\n"
     ]
    },
    {
     "name": "stdin",
     "output_type": "stream",
     "text": [
      "Introduza uma opção:  2\n"
     ]
    },
    {
     "name": "stdout",
     "output_type": "stream",
     "text": [
      "[(1, 2), (3, 4)]\n",
      " (1) Criar fração manualmente;\n",
      "    (2) Escrever frações já criadas no stdout;\n",
      "    (3) Somar frações;\n",
      "    (4) Subtrair frações;\n",
      "    (5) Dividir frações;\n",
      "    (6) Multiplicar frações;\n",
      "    (7) Limpar elementos da lista;\n",
      "    (0) Sair\n"
     ]
    },
    {
     "name": "stdin",
     "output_type": "stream",
     "text": [
      "Introduza uma opção:  6\n"
     ]
    },
    {
     "name": "stdout",
     "output_type": "stream",
     "text": [
      "(3, 8)\n",
      " (1) Criar fração manualmente;\n",
      "    (2) Escrever frações já criadas no stdout;\n",
      "    (3) Somar frações;\n",
      "    (4) Subtrair frações;\n",
      "    (5) Dividir frações;\n",
      "    (6) Multiplicar frações;\n",
      "    (7) Limpar elementos da lista;\n",
      "    (0) Sair\n"
     ]
    },
    {
     "name": "stdin",
     "output_type": "stream",
     "text": [
      "Introduza uma opção:  1\n",
      "Introduza o valor do numerador:  2\n",
      "Introduza o valor do denominador:  5\n"
     ]
    },
    {
     "name": "stdout",
     "output_type": "stream",
     "text": [
      " (1) Criar fração manualmente;\n",
      "    (2) Escrever frações já criadas no stdout;\n",
      "    (3) Somar frações;\n",
      "    (4) Subtrair frações;\n",
      "    (5) Dividir frações;\n",
      "    (6) Multiplicar frações;\n",
      "    (7) Limpar elementos da lista;\n",
      "    (0) Sair\n"
     ]
    },
    {
     "name": "stdin",
     "output_type": "stream",
     "text": [
      "Introduza uma opção:  2\n"
     ]
    },
    {
     "name": "stdout",
     "output_type": "stream",
     "text": [
      "[(1, 2), (3, 4), (2, 5)]\n",
      " (1) Criar fração manualmente;\n",
      "    (2) Escrever frações já criadas no stdout;\n",
      "    (3) Somar frações;\n",
      "    (4) Subtrair frações;\n",
      "    (5) Dividir frações;\n",
      "    (6) Multiplicar frações;\n",
      "    (7) Limpar elementos da lista;\n",
      "    (0) Sair\n"
     ]
    },
    {
     "name": "stdin",
     "output_type": "stream",
     "text": [
      "Introduza uma opção:  6\n"
     ]
    },
    {
     "name": "stdout",
     "output_type": "stream",
     "text": [
      "(3, 20)\n",
      " (1) Criar fração manualmente;\n",
      "    (2) Escrever frações já criadas no stdout;\n",
      "    (3) Somar frações;\n",
      "    (4) Subtrair frações;\n",
      "    (5) Dividir frações;\n",
      "    (6) Multiplicar frações;\n",
      "    (7) Limpar elementos da lista;\n",
      "    (0) Sair\n"
     ]
    },
    {
     "name": "stdin",
     "output_type": "stream",
     "text": [
      "Introduza uma opção:  7\n"
     ]
    },
    {
     "name": "stdout",
     "output_type": "stream",
     "text": [
      " (1) Criar fração manualmente;\n",
      "    (2) Escrever frações já criadas no stdout;\n",
      "    (3) Somar frações;\n",
      "    (4) Subtrair frações;\n",
      "    (5) Dividir frações;\n",
      "    (6) Multiplicar frações;\n",
      "    (7) Limpar elementos da lista;\n",
      "    (0) Sair\n"
     ]
    },
    {
     "name": "stdin",
     "output_type": "stream",
     "text": [
      "Introduza uma opção:  2\n"
     ]
    },
    {
     "name": "stdout",
     "output_type": "stream",
     "text": [
      "[]\n",
      " (1) Criar fração manualmente;\n",
      "    (2) Escrever frações já criadas no stdout;\n",
      "    (3) Somar frações;\n",
      "    (4) Subtrair frações;\n",
      "    (5) Dividir frações;\n",
      "    (6) Multiplicar frações;\n",
      "    (7) Limpar elementos da lista;\n",
      "    (0) Sair\n"
     ]
    },
    {
     "name": "stdin",
     "output_type": "stream",
     "text": [
      "Introduza uma opção:  0\n"
     ]
    },
    {
     "name": "stdout",
     "output_type": "stream",
     "text": [
      "Terminou!\n"
     ]
    }
   ],
   "source": [
    "def menu():\n",
    "    print(\"\"\" (1) Criar fração manualmente;\n",
    "    (2) Escrever frações já criadas no stdout;\n",
    "    (3) Somar frações;\n",
    "    (4) Subtrair frações;\n",
    "    (5) Dividir frações;\n",
    "    (6) Multiplicar frações;\n",
    "    (7) Limpar elementos da lista;\n",
    "    (0) Sair\"\"\")\n",
    "    \n",
    "     \n",
    "    \n",
    "    \n",
    "lista = []\n",
    "opcao = \"-1\"\n",
    "while opcao != \"0\":\n",
    "    menu()\n",
    "    opcao= input(\"Introduza uma opção: \")\n",
    "    if opcao == \"1\":\n",
    "        numerador = int(input(\"Introduza o valor do numerador: \"))\n",
    "        denominador = int(input(\"Introduza o valor do denominador: \"))\n",
    "        lista.append(criarFracao(numerador, denominador))\n",
    "        \n",
    "    elif opcao==\"2\":\n",
    "        print(lista)\n",
    "        \n",
    "        \n",
    "    elif opcao == \"3\":\n",
    "        soma = lista[0]\n",
    "        for i in range(1, len(lista)): \n",
    "            soma = somarFracao(soma, lista[i])\n",
    "        print(soma)\n",
    "              \n",
    "        \n",
    "    elif opcao == \"4\":\n",
    "        subtracao = lista[0]\n",
    "        for i in range(1, len(lista)): \n",
    "            subtracao = subtrairFracao(subtracao, lista[i])\n",
    "        print(subtracao)        \n",
    "             \n",
    "    elif opcao ==\"5\":\n",
    "        divisao = lista[0]\n",
    "        for i in range(1, len(lista)): \n",
    "            divisao = dividirFracao(divisao, lista[i])\n",
    "        print(divisao)\n",
    "    \n",
    "    elif opcao == \"6\":\n",
    "        multiplicacao = lista[0]\n",
    "        for i in range(1, len(lista)): \n",
    "            multiplicacao = multiplicarFracao(multiplicacao, lista[i])\n",
    "        print(multiplicacao)\n",
    "        \n",
    "    elif opcao ==\"7\":\n",
    "        lista.clear()\n",
    "        \n",
    "    elif opcao == \"0\":\n",
    "        print(\"Terminou!\")\n",
    "        \n",
    "        \n",
    "    else: \n",
    "        print(\"Opção Inválida!\")"
   ]
  },
  {
   "cell_type": "code",
   "execution_count": null,
   "metadata": {},
   "outputs": [],
   "source": []
  },
  {
   "cell_type": "code",
   "execution_count": null,
   "metadata": {},
   "outputs": [],
   "source": []
  }
 ],
 "metadata": {
  "kernelspec": {
   "display_name": "Python 3",
   "language": "python",
   "name": "python3"
  },
  "language_info": {
   "codemirror_mode": {
    "name": "ipython",
    "version": 3
   },
   "file_extension": ".py",
   "mimetype": "text/x-python",
   "name": "python",
   "nbconvert_exporter": "python",
   "pygments_lexer": "ipython3",
   "version": "3.8.3"
  }
 },
 "nbformat": 4,
 "nbformat_minor": 4
}
