{
 "cells": [
  {
   "cell_type": "markdown",
   "metadata": {},
   "source": [
    "## Representação gráfica de polinómios"
   ]
  },
  {
   "cell_type": "markdown",
   "metadata": {},
   "source": [
    "* __key name__: Tpc6\n",
    "* __Identificador do trabalho ou projeto__: Tpc6\n",
    "* __Título__: Representação Gráfica de Polinómios\n",
    "* __Subtítulo__: Aplicação para manipulação de polinómios\n",
    "* __Data Inicial__: 2021-11-18\n",
    "* __Data Fim__: 2021-11-25\n",
    "* __Supervisor__: José Carlos Ramalho,  https://www.di.uminho.pt/~jcr/\n",
    "* __Autor__: Mariana Gomes Martins, A97465\n",
    "* __Resumo__:\n",
    "\n",
    "     Um polinómio, em termos de __modelação em python__, é considerado como uma __lista de tuplos__, em cada tuplo, isto é, cada termo do polinómio é constituído por dois inteiros, o coeficiente e o expoente.  Desta forma, na manipulação de polinómios há que ter em conta que são estruturas com duas dimensões.<p> \n",
    "    Nesta aplicação, foi adicionada, ao conjunto de operações que a aplicação de manipulação de polinómios já permitia, a opção de visualizar o polinómio inserido. <p>\n",
    "    Para isso, é necessário importar o módulo __plot__, módulo este utilizado para a representação gráfica. <p>\n",
    "    A representação gráfica começa com a definição das coordenadas x e y dos pontos que se quer ver representados, seguida do respetivo plot. Define-se também os eixos Ox e Oy, atribuindo-lhes limites inferiores e superiores para os seus intervalos, e de seguida, fazendo o seu plot.<p>\n",
    "    Por úlltimo,atribui-se nomes quer aos eixos, quer ao próprio gráfico e imprime-se o gráfico obtido com a função __show__.\n",
    "     \n",
    "\n",
    "\n",
    "  "
   ]
  },
  {
   "cell_type": "code",
   "execution_count": 1,
   "metadata": {},
   "outputs": [],
   "source": [
    "def criarTermo(coef, exp):\n",
    "    return (coef, exp)\n",
    "\n",
    "def criarPolinomio():\n",
    "    return []\n",
    "\n",
    "def inserirTermo(p,t): #Inserir termo no polinomio\n",
    "    return p.append(t)\n",
    "\n",
    "def imprimirPolinomio(p):\n",
    "    return p"
   ]
  },
  {
   "cell_type": "code",
   "execution_count": 2,
   "metadata": {},
   "outputs": [],
   "source": [
    "    \n",
    "def verTermo(t): #return para poder atribuir uma variavel\n",
    "    c, e = t\n",
    "    if e==0 :\n",
    "        return str(c)\n",
    "    elif e==1:\n",
    "        return str(c) + \"x\" \n",
    "    elif c == 1:\n",
    "        return \"x^\" + str(e)\n",
    "    else:\n",
    "        return str(c) + \"x^\" + str(e)\n",
    "        \n",
    "    \n",
    "def verPolinomio(p): #polinomio é uma lista\n",
    "    politexto = \"\" #Politexto é uma string , tem de ser inicializada a string vazia , aspas!!\n",
    "    if len(p) != 0:\n",
    "        politexto = verTermo(p[0]) #Primeiro termo do polinomio p\n",
    "        for i in range(1, len(p)):\n",
    "            if p[i][0] >0 : #aceder ao coeficiente, indice 0, do termo i, tuplo, do polinomio\n",
    "                politexto = politexto +  \" + \" + verTermo(p[i])\n",
    "            else:\n",
    "                politexto = politexto + \" \" + verTermo(p[i])\n",
    "    else:\n",
    "        print(\"p = []\")\n",
    "\n",
    "    return politexto\n",
    "    "
   ]
  },
  {
   "cell_type": "markdown",
   "metadata": {},
   "source": [
    "### Calcular grau polinomio"
   ]
  },
  {
   "cell_type": "code",
   "execution_count": 3,
   "metadata": {},
   "outputs": [],
   "source": [
    "def grauPolinomio(p):\n",
    "    grau = p[0][1] #Primeiro coeficiente do primeiro termo\n",
    "    for i in range(1, len(p)):\n",
    "        if p [i][1] > grau:\n",
    "            grau = p[i][1]\n",
    "    return grau"
   ]
  },
  {
   "cell_type": "markdown",
   "metadata": {},
   "source": [
    "### Calcular valor x no polinómio"
   ]
  },
  {
   "cell_type": "code",
   "execution_count": 4,
   "metadata": {},
   "outputs": [],
   "source": [
    "def calcPolinomio(p,x):\n",
    "    valor = 0\n",
    "    for (c,e) in p:\n",
    "        valor = valor + c* x**e \n",
    "    return valor"
   ]
  },
  {
   "cell_type": "markdown",
   "metadata": {},
   "source": [
    "#### Tabela"
   ]
  },
  {
   "cell_type": "code",
   "execution_count": 5,
   "metadata": {},
   "outputs": [],
   "source": [
    "def tabela(p, linhas):\n",
    "    print(\"x\" + \" | \" + verPolinomio(p))\n",
    "    for l in range(0, linhas + 1):\n",
    "        print(str(l) + \" | \" + str(calcPolinomio(p, l)))"
   ]
  },
  {
   "cell_type": "markdown",
   "metadata": {},
   "source": [
    "#### Derivada"
   ]
  },
  {
   "cell_type": "code",
   "execution_count": 6,
   "metadata": {},
   "outputs": [],
   "source": [
    "def derivadaPolinomio(p):\n",
    "    derivada = []\n",
    "    for (c,e) in p:\n",
    "        if e != 0: #Se expoente for igual a zero , não há termo na derivada -----> condição se for diferente de zero\n",
    "            derivada.append((c*e, e-1))\n",
    "    return verPolinomio(derivada)"
   ]
  },
  {
   "cell_type": "markdown",
   "metadata": {},
   "source": [
    "#### Simplificar o Polinómio"
   ]
  },
  {
   "cell_type": "code",
   "execution_count": 21,
   "metadata": {},
   "outputs": [],
   "source": [
    "def critOrd(t):\n",
    "    c,e = t\n",
    "    return e\n",
    "\n",
    "def ordenarPol(p):\n",
    "    p.sort(key=critOrd, reverse = True) #Ordenar polinomio por expoente; ordem inversa.\n",
    "    return p\n",
    "\n",
    "\n",
    "def simplificarPolinomio(p):\n",
    "    paux = ordenarPol(p)\n",
    "    novoPol = []\n",
    "    \n",
    "    for i in range(0,len(paux)):\n",
    "        coef1,exp1 = paux[i]\n",
    "        coef0, exp0 = paux[i-1] #Ir comparando termo anterior com o posterior\n",
    "        \n",
    "        \n",
    "        \n",
    "        if exp0 == exp1:\n",
    "            novoPol.append(criarTermo(coef0 + coef1, exp0))\n",
    "        else:\n",
    "            if exp0 > exp1:  \n",
    "                if i==1:\n",
    "                    novoPol.append(criarTermo(coef0,exp0))\n",
    "                    \n",
    "                 #Se nao é o 1º termo, o novo termo já tinha sido criado na condiçao anterior\n",
    "           # Expoente termo anterior nunca será menor que o termo seguinte, uma vez que o polinomio está ordenado.\n",
    "    return(verPolinomio(novoPol)) \n",
    "\n",
    "        \n",
    "    "
   ]
  },
  {
   "cell_type": "code",
   "execution_count": 22,
   "metadata": {},
   "outputs": [
    {
     "name": "stdout",
     "output_type": "stream",
     "text": [
      "[(4, 3), (-1, 3), (-1, 2), (3, 2), (-5, 2), (-2, 0), (10, 0)]\n",
      "3x^3 + 2x^2 -2x^2 + 10\n"
     ]
    }
   ],
   "source": [
    "#print(simplificarPolinomio([(7,5),(3,2),(4,5),(-7,0)]))\n",
    "print(ordenarPol([(-1,2),(4,3), (-2,0), (3,2), (-5,2), (-1,3),(10,0)]))\n",
    "print(simplificarPolinomio([(-1,2),(4,3), (-2,0), (3,2), (-5,2), (-1,3),(12,0)]))"
   ]
  },
  {
   "cell_type": "markdown",
   "metadata": {},
   "source": [
    "### Representação Gráfica do Polinómio"
   ]
  },
  {
   "cell_type": "markdown",
   "metadata": {},
   "source": [
    "##### Módulo Plot - Utilizado para a representação gráfica"
   ]
  },
  {
   "cell_type": "code",
   "execution_count": 9,
   "metadata": {},
   "outputs": [
    {
     "data": {
      "image/png": "[encoded data removed]",
      "text/plain": [
       "<Figure size 432x288 with 1 Axes>"
      ]
     },
     "metadata": {
      "needs_background": "light"
     },
     "output_type": "display_data"
    }
   ],
   "source": [
    "\n",
    "# 1- Importar Modulo Plot\n",
    "import matplotlib.pyplot as plt\n",
    "p = [(2,1), (-5,0)]\n",
    "\n",
    "# 2 - Definir coordenadas\n",
    "x = [n for n in range(-100,100)] \n",
    "y = []\n",
    "for n in x:\n",
    "    y.append(calcPolinomio(p,n))\n",
    "    \n",
    "# 3 - Plot coordenadas\n",
    "plt.plot(x,y)\n",
    "\n",
    "# 4 -Definir eixos e plot\n",
    "eixoXx = [x[0]-1, x[-1]+1]\n",
    "eixoXy = [0,0]\n",
    "plt.plot(eixoXx, eixoXy, color='red', linewidth = 1)\n",
    "\n",
    "eixoYx = [0,0]\n",
    "eixoYy = [y[0]-1, y[-1]+1]\n",
    "\n",
    "plt.plot(eixoYx, eixoYy, color='red', linewidth = 1)\n",
    "\n",
    "#Nomear eixos\n",
    "plt.xlabel('Abcissas')\n",
    "plt.ylabel('Ordenadas')\n",
    "\n",
    "#Nomear Gráfico\n",
    "plt.title('Polinómio')\n",
    "\n",
    "#Visualizar\n",
    "plt.show()\n",
    "\n"
   ]
  },
  {
   "cell_type": "markdown",
   "metadata": {},
   "source": [
    "#### Função Menu"
   ]
  },
  {
   "cell_type": "code",
   "execution_count": 10,
   "metadata": {},
   "outputs": [
    {
     "name": "stdout",
     "output_type": "stream",
     "text": [
      " (1) Criar um polinómio;\n",
      "    (2) Listar / Ver polinómio no stdout;\n",
      "    (3) Grau do polinómio;\n",
      "    (4) Calcular polinómio num ponto;\n",
      "    (5) Calcular derivada de um polinómio;\n",
      "    (6) Simlificar o polinómio;\n",
      "    (7) Apresentar tabela;\n",
      "    (8) Apagar polinómio;\n",
      "    (9) Representação Gráfica do Polinómio;\n",
      "    (0) Sair\n"
     ]
    },
    {
     "name": "stdin",
     "output_type": "stream",
     "text": [
      "Introduza uma opção:  1\n",
      "Introduza o nº de termos do polinómio:  2\n",
      "Introduza o valor do coeficiente:  2\n",
      "Introduza o valor do expoente:  1\n"
     ]
    },
    {
     "name": "stdout",
     "output_type": "stream",
     "text": [
      "(2, 1)\n"
     ]
    },
    {
     "name": "stdin",
     "output_type": "stream",
     "text": [
      "Introduza o valor do coeficiente:  -50\n",
      "Introduza o valor do expoente:  0\n"
     ]
    },
    {
     "name": "stdout",
     "output_type": "stream",
     "text": [
      "(-50, 0)\n",
      " (1) Criar um polinómio;\n",
      "    (2) Listar / Ver polinómio no stdout;\n",
      "    (3) Grau do polinómio;\n",
      "    (4) Calcular polinómio num ponto;\n",
      "    (5) Calcular derivada de um polinómio;\n",
      "    (6) Simlificar o polinómio;\n",
      "    (7) Apresentar tabela;\n",
      "    (8) Apagar polinómio;\n",
      "    (9) Representação Gráfica do Polinómio;\n",
      "    (0) Sair\n"
     ]
    },
    {
     "name": "stdin",
     "output_type": "stream",
     "text": [
      "Introduza uma opção:  9\n"
     ]
    },
    {
     "name": "stdout",
     "output_type": "stream",
     "text": [
      "O gráfico do polinómio 2x -50 é: \n"
     ]
    },
    {
     "data": {
      "image/png": "[encoded data removed]",
      "text/plain": [
       "<Figure size 432x288 with 1 Axes>"
      ]
     },
     "metadata": {
      "needs_background": "light"
     },
     "output_type": "display_data"
    },
    {
     "name": "stdout",
     "output_type": "stream",
     "text": [
      " (1) Criar um polinómio;\n",
      "    (2) Listar / Ver polinómio no stdout;\n",
      "    (3) Grau do polinómio;\n",
      "    (4) Calcular polinómio num ponto;\n",
      "    (5) Calcular derivada de um polinómio;\n",
      "    (6) Simlificar o polinómio;\n",
      "    (7) Apresentar tabela;\n",
      "    (8) Apagar polinómio;\n",
      "    (9) Representação Gráfica do Polinómio;\n",
      "    (0) Sair\n"
     ]
    },
    {
     "name": "stdin",
     "output_type": "stream",
     "text": [
      "Introduza uma opção:  8\n"
     ]
    },
    {
     "name": "stdout",
     "output_type": "stream",
     "text": [
      " (1) Criar um polinómio;\n",
      "    (2) Listar / Ver polinómio no stdout;\n",
      "    (3) Grau do polinómio;\n",
      "    (4) Calcular polinómio num ponto;\n",
      "    (5) Calcular derivada de um polinómio;\n",
      "    (6) Simlificar o polinómio;\n",
      "    (7) Apresentar tabela;\n",
      "    (8) Apagar polinómio;\n",
      "    (9) Representação Gráfica do Polinómio;\n",
      "    (0) Sair\n"
     ]
    },
    {
     "name": "stdin",
     "output_type": "stream",
     "text": [
      "Introduza uma opção:  2\n"
     ]
    },
    {
     "name": "stdout",
     "output_type": "stream",
     "text": [
      "[]\n",
      "p = []\n",
      "\n",
      " (1) Criar um polinómio;\n",
      "    (2) Listar / Ver polinómio no stdout;\n",
      "    (3) Grau do polinómio;\n",
      "    (4) Calcular polinómio num ponto;\n",
      "    (5) Calcular derivada de um polinómio;\n",
      "    (6) Simlificar o polinómio;\n",
      "    (7) Apresentar tabela;\n",
      "    (8) Apagar polinómio;\n",
      "    (9) Representação Gráfica do Polinómio;\n",
      "    (0) Sair\n"
     ]
    },
    {
     "name": "stdin",
     "output_type": "stream",
     "text": [
      "Introduza uma opção:  1\n",
      "Introduza o nº de termos do polinómio:  3\n",
      "Introduza o valor do coeficiente:  -50\n",
      "Introduza o valor do expoente:  1\n"
     ]
    },
    {
     "name": "stdout",
     "output_type": "stream",
     "text": [
      "(-50, 1)\n"
     ]
    },
    {
     "name": "stdin",
     "output_type": "stream",
     "text": [
      "Introduza o valor do coeficiente:  2\n",
      "Introduza o valor do expoente:  1\n"
     ]
    },
    {
     "name": "stdout",
     "output_type": "stream",
     "text": [
      "(2, 1)\n"
     ]
    },
    {
     "name": "stdin",
     "output_type": "stream",
     "text": [
      "Introduza o valor do coeficiente:  -20\n",
      "Introduza o valor do expoente:  0\n"
     ]
    },
    {
     "name": "stdout",
     "output_type": "stream",
     "text": [
      "(-20, 0)\n",
      " (1) Criar um polinómio;\n",
      "    (2) Listar / Ver polinómio no stdout;\n",
      "    (3) Grau do polinómio;\n",
      "    (4) Calcular polinómio num ponto;\n",
      "    (5) Calcular derivada de um polinómio;\n",
      "    (6) Simlificar o polinómio;\n",
      "    (7) Apresentar tabela;\n",
      "    (8) Apagar polinómio;\n",
      "    (9) Representação Gráfica do Polinómio;\n",
      "    (0) Sair\n"
     ]
    },
    {
     "name": "stdin",
     "output_type": "stream",
     "text": [
      "Introduza uma opção:  2\n"
     ]
    },
    {
     "name": "stdout",
     "output_type": "stream",
     "text": [
      "[(-50, 1), (2, 1), (-20, 0)]\n",
      "-50x + 2x -20\n",
      " (1) Criar um polinómio;\n",
      "    (2) Listar / Ver polinómio no stdout;\n",
      "    (3) Grau do polinómio;\n",
      "    (4) Calcular polinómio num ponto;\n",
      "    (5) Calcular derivada de um polinómio;\n",
      "    (6) Simlificar o polinómio;\n",
      "    (7) Apresentar tabela;\n",
      "    (8) Apagar polinómio;\n",
      "    (9) Representação Gráfica do Polinómio;\n",
      "    (0) Sair\n"
     ]
    },
    {
     "name": "stdin",
     "output_type": "stream",
     "text": [
      "Introduza uma opção:  9\n"
     ]
    },
    {
     "name": "stdout",
     "output_type": "stream",
     "text": [
      "O gráfico do polinómio -50x + 2x -20 é: \n"
     ]
    },
    {
     "data": {
      "image/png": "[encoded data removed]",
      "text/plain": [
       "<Figure size 432x288 with 1 Axes>"
      ]
     },
     "metadata": {
      "needs_background": "light"
     },
     "output_type": "display_data"
    },
    {
     "name": "stdout",
     "output_type": "stream",
     "text": [
      " (1) Criar um polinómio;\n",
      "    (2) Listar / Ver polinómio no stdout;\n",
      "    (3) Grau do polinómio;\n",
      "    (4) Calcular polinómio num ponto;\n",
      "    (5) Calcular derivada de um polinómio;\n",
      "    (6) Simlificar o polinómio;\n",
      "    (7) Apresentar tabela;\n",
      "    (8) Apagar polinómio;\n",
      "    (9) Representação Gráfica do Polinómio;\n",
      "    (0) Sair\n"
     ]
    },
    {
     "name": "stdin",
     "output_type": "stream",
     "text": [
      "Introduza uma opção:  8\n"
     ]
    },
    {
     "name": "stdout",
     "output_type": "stream",
     "text": [
      " (1) Criar um polinómio;\n",
      "    (2) Listar / Ver polinómio no stdout;\n",
      "    (3) Grau do polinómio;\n",
      "    (4) Calcular polinómio num ponto;\n",
      "    (5) Calcular derivada de um polinómio;\n",
      "    (6) Simlificar o polinómio;\n",
      "    (7) Apresentar tabela;\n",
      "    (8) Apagar polinómio;\n",
      "    (9) Representação Gráfica do Polinómio;\n",
      "    (0) Sair\n"
     ]
    },
    {
     "name": "stdin",
     "output_type": "stream",
     "text": [
      "Introduza uma opção:  1\n",
      "Introduza o nº de termos do polinómio:  2\n",
      "Introduza o valor do coeficiente:  -10\n",
      "Introduza o valor do expoente:  2\n"
     ]
    },
    {
     "name": "stdout",
     "output_type": "stream",
     "text": [
      "(-10, 2)\n"
     ]
    },
    {
     "name": "stdin",
     "output_type": "stream",
     "text": [
      "Introduza o valor do coeficiente:  -50\n",
      "Introduza o valor do expoente:  0\n"
     ]
    },
    {
     "name": "stdout",
     "output_type": "stream",
     "text": [
      "(-50, 0)\n",
      " (1) Criar um polinómio;\n",
      "    (2) Listar / Ver polinómio no stdout;\n",
      "    (3) Grau do polinómio;\n",
      "    (4) Calcular polinómio num ponto;\n",
      "    (5) Calcular derivada de um polinómio;\n",
      "    (6) Simlificar o polinómio;\n",
      "    (7) Apresentar tabela;\n",
      "    (8) Apagar polinómio;\n",
      "    (9) Representação Gráfica do Polinómio;\n",
      "    (0) Sair\n"
     ]
    },
    {
     "name": "stdin",
     "output_type": "stream",
     "text": [
      "Introduza uma opção:  9\n"
     ]
    },
    {
     "name": "stdout",
     "output_type": "stream",
     "text": [
      "O gráfico do polinómio -10x^2 -50 é: \n"
     ]
    },
    {
     "data": {
      "image/png": "[encoded data removed]",
      "text/plain": [
       "<Figure size 432x288 with 1 Axes>"
      ]
     },
     "metadata": {
      "needs_background": "light"
     },
     "output_type": "display_data"
    },
    {
     "name": "stdout",
     "output_type": "stream",
     "text": [
      " (1) Criar um polinómio;\n",
      "    (2) Listar / Ver polinómio no stdout;\n",
      "    (3) Grau do polinómio;\n",
      "    (4) Calcular polinómio num ponto;\n",
      "    (5) Calcular derivada de um polinómio;\n",
      "    (6) Simlificar o polinómio;\n",
      "    (7) Apresentar tabela;\n",
      "    (8) Apagar polinómio;\n",
      "    (9) Representação Gráfica do Polinómio;\n",
      "    (0) Sair\n"
     ]
    },
    {
     "name": "stdin",
     "output_type": "stream",
     "text": [
      "Introduza uma opção:  0\n"
     ]
    },
    {
     "name": "stdout",
     "output_type": "stream",
     "text": [
      "Terminou!\n"
     ]
    }
   ],
   "source": [
    "def menu():\n",
    "    print(\"\"\" (1) Criar um polinómio;\n",
    "    (2) Listar / Ver polinómio no stdout;\n",
    "    (3) Grau do polinómio;\n",
    "    (4) Calcular polinómio num ponto;\n",
    "    (5) Calcular derivada de um polinómio;\n",
    "    (6) Simlificar o polinómio;\n",
    "    (7) Apresentar tabela;\n",
    "    (8) Apagar polinómio;\n",
    "    (9) Representação Gráfica do Polinómio;\n",
    "    (0) Sair\"\"\")\n",
    "    \n",
    "     \n",
    "    \n",
    "    \n",
    "p = []\n",
    "opcao = \"-1\"\n",
    "while opcao != \"0\":\n",
    "    menu()\n",
    "    opcao= input(\"Introduza uma opção: \")\n",
    "    if opcao == \"1\":\n",
    "        termos = int(input(\"Introduza o nº de termos do polinómio: \"))\n",
    "        while termos !=0:\n",
    "            coeficiente = int(input(\"Introduza o valor do coeficiente: \"))\n",
    "            expoente= int(input(\"Introduza o valor do expoente: \"))\n",
    "            print(criarTermo(coeficiente, expoente))\n",
    "            p.append(criarTermo(coeficiente, expoente))\n",
    "            termos = termos - 1\n",
    "            \n",
    "\n",
    "        \n",
    "    elif opcao==\"2\":\n",
    "        print(imprimirPolinomio(p))\n",
    "        print(verPolinomio(p))\n",
    "        \n",
    "        \n",
    "    elif opcao == \"3\":\n",
    "        g = grauPolinomio(p)\n",
    "        print(\"O grau do polinómio\",verPolinomio(p),\"é:\", g,\".\")\n",
    "              \n",
    "        \n",
    "    elif opcao == \"4\":\n",
    "          x = int(input(\"Introduza o valor de x no qual pretende calcular o polinómio: \"))\n",
    "          c = calcPolinomio(p,x)\n",
    "          print(\"O valor do polinómio\",verPolinomio(p),\"em\",x,\"é:\", c,\".\")\n",
    "             \n",
    "    elif opcao ==\"5\":\n",
    "        d = derivadaPolinomio(p)\n",
    "        print(\"A derivada do polinómio\",verPolinomio(p),\"é:\",d)\n",
    "        \n",
    "    elif opcao == \"6\":\n",
    "        s = simplificarPolinomio(p)\n",
    "        print(\"O polinómio simplificado é:\", s)\n",
    "        \n",
    "        \n",
    "    elif opcao == \"7\":\n",
    "        linhas = int(input(\"Introduza o nº de valores em que pretende calcular o polinómio: \"))\n",
    "        print(tabela(p,linhas))\n",
    "        \n",
    "        \n",
    "    elif opcao ==\"8\":\n",
    "        p.clear()\n",
    "        \n",
    "        \n",
    "    elif opcao == \"9\":\n",
    "\n",
    "        # 1- Importar Modulo Plot\n",
    "        import matplotlib.pyplot as plt\n",
    "         \n",
    "        pr = imprimirPolinomio(p)\n",
    "        print(\"O gráfico do polinómio\",verPolinomio(pr), \"é: \")\n",
    "        # 2 - Definir coordenadas\n",
    "        x = [n for n in range(-100,100)] \n",
    "        y = []\n",
    "        for n in x:\n",
    "            y.append(calcPolinomio(pr,n))\n",
    "\n",
    "        # 3 - Plot coordenadas\n",
    "        plt.plot(x,y)\n",
    "\n",
    "        # 4 -Definir eixos e plot\n",
    "        eixoXx = [x[0]-1, x[-1]+1]\n",
    "        eixoXy = [0,0]\n",
    "        plt.plot(eixoXx, eixoXy, color='red', linewidth = 1)\n",
    "\n",
    "        eixoYx = [0,0]\n",
    "        eixoYy = [y[0]-1, y[-1]+1]\n",
    "\n",
    "        plt.plot(eixoYx, eixoYy, color='red', linewidth = 1)\n",
    "\n",
    "        #Nomear eixos\n",
    "        plt.xlabel('Abcissas')\n",
    "        plt.ylabel('Ordenadas')\n",
    "\n",
    "        #Nomear Gráfico\n",
    "        plt.title('Polinómio')\n",
    "\n",
    "        #Visualizar\n",
    "        plt.show()\n",
    "\n",
    "\n",
    "        \n",
    "        \n",
    "    elif opcao == \"0\":\n",
    "        print(\"Terminou!\")\n",
    "        \n",
    "        \n",
    "    else: \n",
    "        print(\"Opção Inválida!\")"
   ]
  },
  {
   "cell_type": "code",
   "execution_count": null,
   "metadata": {},
   "outputs": [],
   "source": []
  }
 ],
 "metadata": {
  "kernelspec": {
   "display_name": "Python 3",
   "language": "python",
   "name": "python3"
  },
  "language_info": {
   "codemirror_mode": {
    "name": "ipython",
    "version": 3
   },
   "file_extension": ".py",
   "mimetype": "text/x-python",
   "name": "python",
   "nbconvert_exporter": "python",
   "pygments_lexer": "ipython3",
   "version": "3.8.3"
  }
 },
 "nbformat": 4,
 "nbformat_minor": 4
}
