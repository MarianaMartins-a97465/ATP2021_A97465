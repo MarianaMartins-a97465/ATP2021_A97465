{
 "cells": [
  {
   "cell_type": "markdown",
   "metadata": {},
   "source": [
    "#### Manifesto"
   ]
  },
  {
   "cell_type": "markdown",
   "metadata": {},
   "source": [
    "* __key name__: Tpc2\n",
    "* __Identificador do trabalho ou projeto__: Tpc2\n",
    "* __Título__: Procura Binária\n",
    "* __Subtítulo__: Jogo Adivinha o número\n",
    "* __Data Inicial__: 2021-10-14\n",
    "* __Data Fim__: 2021-10-20\n",
    "* __Supervisor__: José Carlos Ramalho,  https://www.di.uminho.pt/~jcr/\n",
    "* __Autor__: Mariana Gomes Martins, A97465\n",
    "* __Resumo__:\n",
    "\n",
    "    A Implementação do jogo do adivinha o número tem por base a __procura binária__, procura essa que consiste numa __pesquisa em intervalo ordenado__, efetuando-se __sucessivas divisões__ do espaço a procurar. Se o elemento a procurar for o valor do meio do intervalo, a pesquisa termina com sucesso. Caso contrário, se o elemento vier antes do elemento do meio, a procura continua na metade anterior ao valor médio e assim sucessivamente.\n",
    "    \n",
    "    A implementação deste jogo, que consiste em adivinhar o número, entre 0 e 100, que uma pessoa está a pensar , baseia-se numa função que se fundamenta em ciclos de repetição, como por exemplo o ciclo while, e em estruturas de condição, tais como if/else.\n",
    "    Para além disso, sabe-se que essa adivinha tem de ser feita no máximo em sete jogadas, uma vez que, estanto em procura binária, 2^7 cobre todos os números desse intervalo.\n",
    "    \n",
    "   \n",
    "    \n"
   ]
  },
  {
   "cell_type": "code",
   "execution_count": null,
   "metadata": {},
   "outputs": [],
   "source": [
    "def jogar():\n",
    "    maximo = 100\n",
    "    minimo = 0\n",
    "    c = int((maximo-minimo)/2)\n",
    "\n",
    "    contador = 0\n",
    "    tentativa = 0\n",
    "    while tentativa < 7:\n",
    "            print(\"O seu número é\", c, \"?\")\n",
    "            resposta =str(input(\"Introduza sim ou não : \"))\n",
    "            if resposta == 'sim':\n",
    "                print(\"O seu nº é\", c,\". Foi adivinhado em\", contador, \"tentativas. Jogue novamente!\")\n",
    "                \n",
    "            elif resposta == 'não':\n",
    "                resposta2 = str(input(\"É maior ou menor ? \"))\n",
    "                if resposta2 == 'maior':\n",
    "                    minimo = c\n",
    "                    medio = int((maximo-minimo)/2)\n",
    "                    c = c + medio\n",
    "                    \n",
    "                    contador = contador + 1\n",
    "                    \n",
    "                elif resposta2=='menor':\n",
    "                    maximo = c\n",
    "                    medio = int((maximo-minimo)/2)\n",
    "                    c = c - medio\n",
    "                    \n",
    "                    contador = contador + 1\n",
    "                else:\n",
    "                  print(\"Símbolo errado. Tente novamente!\")\n",
    "                    \n",
    "       \n",
    "            else:\n",
    "                print(\"Símbolo errado. Tente novamente!\")\n",
    "            \n",
    "            tentativa=tentativa+1 \n",
    "            \n",
    "            \n",
    "print(\"Pense num nº entre 0 e 100... Espere que o computador o adivinhe!\")           \n",
    "jogar()"
   ]
  }
 ],
 "metadata": {
  "kernelspec": {
   "display_name": "Python 3",
   "language": "python",
   "name": "python3"
  },
  "language_info": {
   "codemirror_mode": {
    "name": "ipython",
    "version": 3
   },
   "file_extension": ".py",
   "mimetype": "text/x-python",
   "name": "python",
   "nbconvert_exporter": "python",
   "pygments_lexer": "ipython3",
   "version": "3.8.3"
  }
 },
 "nbformat": 4,
 "nbformat_minor": 4
}
