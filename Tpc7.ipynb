{
 "cells": [
  {
   "cell_type": "markdown",
   "metadata": {},
   "source": [
    "## Leitura e Processamento de Datasets"
   ]
  },
  {
   "cell_type": "markdown",
   "metadata": {},
   "source": [
    "\n",
    "* __key name__: Tpc7\n",
    "* __Identificador do trabalho ou projeto__: Tpc7\n",
    "* __Título__: Processamento de datasets\n",
    "* __Data Inicial__: 2021-11-25\n",
    "* __Data Fim__: 2021-12-02\n",
    "* __Supervisor__: José Carlos Ramalho,  https://www.di.uminho.pt/~jcr/\n",
    "* __Autor__: Mariana Gomes Martins, A97465 <p>\n",
    "* __Resumo__:<p>\n",
    "    Este ficheiro resolve o problema proposto e tem como objetivo: a leitura, o processamento e a obtenção de dados estatísticos de um determinado dataset, previamente fornecido.\n",
    "    O modelo corresponde a uma base de dados de alunos, BDalunos, que consiste numa lista de alunos. Cada aluno, por sua vez, corresponde a uma lista (Aluno = [id, nome, curso, [tpc1, tpc2, tpc3, tpc4] ), onde a lista dos tpcs corresponde a números inteiros. <p>\n",
    "    Começamos com a função *lerDataset()* que permite a leitura/carregamento da informação do ficheiro. <p>\n",
    "    De seguida, a função *listarDataset()* que retorna uma tabela com os vários registos de informação. <p>\n",
    "    Temos ainda, a função *consultarDataset()* que, mediante o id do aluno, apresenta toda a sua informação e a função *top10()* que dá como resultado uma lista com os alunos com as 10 médias mais altas. <p>\n",
    "     Por último, temos as funções de distribuição, *distribPorCurso()* e *distribPorMedia()* que resultam numa lista de pares, curso ou media, respetivamente, e número de alunos. São ainda acompanhadas pelos correspondentes gráficos de barras, obtidos com o auxílio do módulo *matplotlib.pyplot*.\n",
    "     \n",
    "    \n",
    "\n",
    "     \n",
    "\n"
   ]
  },
  {
   "cell_type": "markdown",
   "metadata": {},
   "source": [
    "## Dataset\n",
    "\n",
    "Para a resolução dos exercícios desta ficha, descarrega o dataset de alunos do site da UC.\n",
    "\n",
    "### Estrutura do dataset\n",
    "O dataset tem a seguinte estrutura:\n",
    "\n",
    "```\n",
    "id_aluno,nome,curso,tpc1,tpc2,tpc3,tpc4\n",
    "\"a1\",\"Aysha Melanie Gilberto\",\"LEI\",12,8,19,8\n",
    "\"a2\",\"Igor André Cantanhede\",\"ENGFIS\",12,16,18,20\n",
    "\"a3\",\"Laurénio Narciso\",\"ENGFIS\",8,14,15,14\n",
    "\"a4\",\"Jasnoor Casegas\",\"LCC\",14,20,17,11\n",
    "\"a5\",\"Tawseef Rebouças\",\"ENGBIOM\",13,14,13,17\n",
    "\"a6\",\"Eryk Clementino\",\"LEI\",10,19,11,14\n",
    "...\n",
    "```"
   ]
  },
  {
   "cell_type": "markdown",
   "metadata": {},
   "source": [
    "## Leitura (exercício 1)\n",
    "\n",
    "Depois de pensares num modelo adequado especifica a função que lê o ficheiro e povoa esse modelo."
   ]
  },
  {
   "cell_type": "markdown",
   "metadata": {},
   "source": [
    "### Comando para ver Diretoria"
   ]
  },
  {
   "cell_type": "code",
   "execution_count": 1,
   "metadata": {},
   "outputs": [
    {
     "name": "stdout",
     "output_type": "stream",
     "text": [
      "C:\\Users\\maria\\ATP2021 - A97465\n"
     ]
    }
   ],
   "source": [
    "import os\n",
    "print(os.getcwd())"
   ]
  },
  {
   "cell_type": "markdown",
   "metadata": {},
   "source": [
    "#### Mecanismo Universal Troca caracteres\n",
    "\n",
    "##### Replace caractere pela string nova   "
   ]
  },
  {
   "cell_type": "code",
   "execution_count": 2,
   "metadata": {},
   "outputs": [],
   "source": [
    "# Descreve em texto o teu modelo\n",
    "# BDAlunos = [Aluno]\n",
    "# Aluno = [id, nome, curso, [tpc1,tpc2,tpc3,tpc4]\n",
    "\n",
    "\n",
    "# Leitura/carregamento da informação do ficheiro   \n",
    "def lerDataset(fnome):\n",
    "    bd = []\n",
    "    f = open(fnome, encoding = 'utf-8')\n",
    "    f.readline() \n",
    "    for linha in f:              \n",
    "        novaLinha = linha.replace(\"\\n\", \"\") \n",
    "        campos = novaLinha.split(\",\") # lista de campos de cada linha dataset\n",
    "        aluno = []\n",
    "        aluno.append(campos[0])\n",
    "        aluno.append (campos[1])\n",
    "        aluno.append(campos[2])\n",
    "        listaTPC = []\n",
    "        for tpc in campos[3:]:#do campo 3 até ao fim\n",
    "            listaTPC.append(int(tpc))\n",
    "        aluno.append(listaTPC)  \n",
    "        \n",
    "        bd.append(aluno)\n",
    "\n",
    "    return bd \n"
   ]
  },
  {
   "cell_type": "code",
   "execution_count": 3,
   "metadata": {},
   "outputs": [
    {
     "name": "stdout",
     "output_type": "stream",
     "text": [
      "[['\"a1\"', '\"Aysha Melanie Gilberto\"', '\"LEI\"', [12, 8, 19, 8]], ['\"a2\"', '\"Igor André Cantanhede\"', '\"ENGFIS\"', [12, 16, 18, 20]], ['\"a3\"', '\"Laurénio Narciso\"', '\"ENGFIS\"', [8, 14, 15, 14]], ['\"a4\"', '\"Jasnoor Casegas\"', '\"LCC\"', [14, 20, 17, 11]], ['\"a5\"', '\"Tawseef Rebouças\"', '\"ENGBIOM\"', [13, 14, 13, 17]], ['\"a6\"', '\"Eryk Clementino\"', '\"LEI\"', [10, 19, 11, 14]], ['\"a7\"', '\"Ianna Noivo\"', '\"ENGBIOM\"', [15, 15, 17, 16]], ['\"a8\"', '\"Ayla Thaissa Reina\"', '\"ENGBIOM\"', [12, 8, 8, 18]], ['\"a9\"', '\"Cássia Viviane Coitã\"', '\"ENGFIS\"', [19, 9, 14, 10]], ['\"a10\"', '\"Koby Vindima\"', '\"LEI\"', [9, 14, 20, 13]], ['\"a11\"', '\"Gustavo Martim Hernandez\"', '\"ENGBIOM\"', [11, 8, 14, 11]], ['\"a12\"', '\"Siddarta Beiriz\"', '\"LEI\"', [17, 10, 16, 16]], ['\"a13\"', '\"Daniela Patrícia Montes\"', '\"ENGBIOM\"', [15, 15, 18, 19]], ['\"a14\"', '\"Kaylla Pessego\"', '\"LCC\"', [10, 14, 17, 15]], ['\"a15\"', '\"Bianca Cristina Primitivo\"', '\"ENGBIOM\"', [16, 9, 18, 10]], ['\"a16\"', '\"Magna Galhardo\"', '\"ENGFIS\"', [20, 18, 9, 14]], ['\"a17\"', '\"Grace Isabel Patriarca\"', '\"LCC\"', [19, 13, 9, 10]], ['\"a18\"', '\"Saubhagya Buco\"', '\"LEI\"', [18, 18, 17, 8]], ['\"a19\"', '\"Ivo Vicente Boisa\"', '\"ENGBIOM\"', [14, 10, 18, 13]], ['\"a20\"', '\"Vivaan Castilhos\"', '\"ENGFIS\"', [15, 14, 11, 12]], ['\"a21\"', '\"Layana Camejo\"', '\"ENGFIS\"', [17, 12, 10, 20]], ['\"a22\"', '\"Mahdi Menoita\"', '\"ENGFIS\"', [11, 16, 8, 16]], ['\"a23\"', '\"Yifan Cortinado\"', '\"LEI\"', [19, 16, 8, 18]], ['\"a24\"', '\"Éder Sodré\"', '\"ENGFIS\"', [17, 13, 14, 12]], ['\"a25\"', '\"Dhriti Magano\"', '\"ENGFIS\"', [19, 11, 8, 19]], ['\"a26\"', '\"Steve Devesa\"', '\"ENGBIOM\"', [10, 16, 8, 13]], ['\"a27\"', '\"Lisandro Mariano Picassinos\"', '\"ENGFIS\"', [13, 10, 16, 10]], ['\"a28\"', '\"Itiel Quinoy\"', '\"LEI\"', [18, 18, 8, 9]], ['\"a29\"', '\"Pranika Reimoo\"', '\"LEI\"', [12, 16, 15, 13]], ['\"a30\"', '\"Manaia Viseu\"', '\"ENGFIS\"', [8, 12, 20, 11]], ['\"a31\"', '\"Eva Manuel Caio\"', '\"ENGFIS\"', [12, 16, 20, 16]], ['\"a32\"', '\"Ariane Sofia Foja\"', '\"LEI\"', [20, 19, 13, 18]], ['\"a33\"', '\"Jaime António Pauseiro\"', '\"LCC\"', [19, 13, 8, 10]], ['\"a34\"', '\"Tanisha Marzagoo\"', '\"ENGBIOM\"', [14, 19, 13, 14]], ['\"a35\"', '\"Siyon Anca\"', '\"LEI\"', [8, 13, 19, 15]], ['\"a36\"', '\"Diana Beatriz Boavista\"', '\"LCC\"', [19, 18, 17, 12]], ['\"a37\"', '\"Elisiário Saberio\"', '\"ENGFIS\"', [18, 18, 10, 19]], ['\"a38\"', '\"Maira Brites\"', '\"ENGFIS\"', [13, 16, 15, 17]], ['\"a39\"', '\"Victória Gabriela Incenso\"', '\"LEI\"', [17, 14, 13, 8]], ['\"a40\"', '\"Najua Serôdio\"', '\"LCC\"', [17, 9, 16, 18]], ['\"a41\"', '\"Lachezar Rosas\"', '\"ENGBIOM\"', [16, 18, 18, 15]], ['\"a42\"', '\"Kattleya Trigueiro\"', '\"ENGFIS\"', [19, 16, 14, 15]], ['\"a43\"', '\"Tatiana Guiomar Maricoto\"', '\"LCC\"', [19, 8, 15, 11]], ['\"a44\"', '\"Mélanie Daniela Bugalhão\"', '\"LCC\"', [17, 9, 17, 18]], ['\"a45\"', '\"Imayame Hespanha\"', '\"ENGFIS\"', [20, 17, 19, 11]], ['\"a46\"', '\"Yuri Gabriel Baganha\"', '\"LCC\"', [15, 18, 12, 16]], ['\"a47\"', '\"Moisés João Cornelio\"', '\"LEI\"', [20, 16, 19, 17]], ['\"a48\"', '\"Nazir Assif Trinta\"', '\"LEI\"', [14, 14, 12, 8]], ['\"a49\"', '\"Karamjot Arezes\"', '\"LEI\"', [10, 9, 20, 12]], ['\"a50\"', '\"Rishit Justa\"', '\"ENGBIOM\"', [9, 9, 9, 12]], ['\"a51\"', '\"Iara de Jesus Gonçalo\"', '\"ENGFIS\"', [14, 8, 12, 14]], ['\"a52\"', '\"Stepfan Owusu Lercas\"', '\"LEI\"', [18, 9, 16, 14]], ['\"a53\"', '\"Abner Umbelina\"', '\"ENGBIOM\"', [20, 16, 10, 13]], ['\"a54\"', '\"Dânia Lucy Montelobo\"', '\"LEI\"', [18, 19, 15, 11]], ['\"a55\"', '\"Myla Lopez\"', '\"ENGFIS\"', [9, 17, 12, 20]], ['\"a56\"', '\"Hakeem Brazão\"', '\"LEI\"', [18, 18, 13, 20]], ['\"a57\"', '\"Quinn Aveiro\"', '\"ENGBIOM\"', [17, 16, 9, 13]], ['\"a58\"', '\"Etienne Constentino\"', '\"ENGBIOM\"', [15, 8, 9, 13]], ['\"a59\"', '\"Emanuel Marcos Delfina\"', '\"LEI\"', [9, 15, 8, 13]], ['\"a60\"', '\"Mariana Catarina Ramalheira\"', '\"ENGBIOM\"', [17, 19, 19, 11]], ['\"a61\"', '\"Bradley Tabau\"', '\"LCC\"', [16, 19, 16, 12]], ['\"a62\"', '\"Ahmadou Bamba Calcinha\"', '\"LCC\"', [13, 20, 8, 16]], ['\"a63\"', '\"Francisco Pedro Derresa\"', '\"ENGFIS\"', [8, 12, 20, 18]], ['\"a64\"', '\"Gil Miguel Lima\"', '\"ENGBIOM\"', [16, 19, 8, 14]], ['\"a65\"', '\"Leonor Pedro Carqueijeiro\"', '\"ENGBIOM\"', [19, 11, 17, 8]], ['\"a66\"', '\"Genrikh Maximovich Vila-Chã\"', '\"ENGFIS\"', [12, 15, 13, 9]], ['\"a67\"', '\"Mayra Larissa Rolo\"', '\"LCC\"', [15, 14, 17, 12]], ['\"a68\"', '\"Leandro David Dunhoo\"', '\"ENGBIOM\"', [15, 14, 11, 15]], ['\"a69\"', '\"Adele Belchior\"', '\"ENGBIOM\"', [17, 12, 20, 12]], ['\"a70\"', '\"Frantceska Borreca\"', '\"ENGFIS\"', [18, 11, 19, 8]], ['\"a71\"', '\"Derrick Urias\"', '\"ENGFIS\"', [11, 10, 8, 14]], ['\"a72\"', '\"Ana Gabriel Quirino\"', '\"LCC\"', [10, 17, 8, 19]], ['\"a73\"', '\"Carolina Antoo\"', '\"ENGBIOM\"', [16, 19, 20, 10]], ['\"a74\"', '\"Vânia Sofia Porfirio\"', '\"ENGBIOM\"', [18, 19, 18, 15]], ['\"a75\"', '\"Dárcio Wosvaldo Tudela\"', '\"LEI\"', [8, 18, 9, 18]], ['\"a76\"', '\"Zhara Couxão\"', '\"ENGFIS\"', [16, 10, 14, 12]], ['\"a77\"', '\"Tomé Ferrito\"', '\"LCC\"', [14, 10, 15, 19]], ['\"a78\"', '\"Iasmin Paloma Chaveiro\"', '\"LCC\"', [8, 15, 19, 9]], ['\"a79\"', '\"Sadagi Cruto\"', '\"ENGBIOM\"', [13, 18, 14, 18]], ['\"a80\"', '\"Maria Carolina Josué\"', '\"ENGFIS\"', [17, 20, 17, 18]], ['\"a81\"', '\"Quaresma Lancastre\"', '\"ENGBIOM\"', [17, 9, 16, 19]], ['\"a82\"', '\"Evaldir Gervasio\"', '\"ENGFIS\"', [16, 19, 15, 8]], ['\"a83\"', '\"Dolorinda Adolfo\"', '\"ENGFIS\"', [11, 20, 16, 8]], ['\"a84\"', '\"Laudário Frasão\"', '\"LCC\"', [20, 19, 10, 19]], ['\"a85\"', '\"Rómula Jeronimo\"', '\"ENGFIS\"', [10, 13, 12, 11]], ['\"a86\"', '\"Clésio Rodeiro\"', '\"LCC\"', [9, 13, 12, 18]], ['\"a87\"', '\"Feliciano José Avis\"', '\"ENGFIS\"', [9, 11, 10, 9]], ['\"a88\"', '\"Afonso Adriano Marca\"', '\"ENGBIOM\"', [8, 16, 12, 15]], ['\"a89\"', '\"Victória Miguel Rosete\"', '\"ENGFIS\"', [8, 13, 13, 18]], ['\"a90\"', '\"Tome Teroso\"', '\"ENGFIS\"', [9, 9, 10, 17]], ['\"a91\"', '\"Constança Filipa Melado\"', '\"LEI\"', [10, 12, 8, 20]], ['\"a92\"', '\"Madalena Jesus Alfaiate\"', '\"LEI\"', [17, 14, 9, 17]], ['\"a93\"', '\"Bivhan Reimbau\"', '\"LCC\"', [17, 11, 8, 12]], ['\"a94\"', '\"Viviana Sofia Gaspar\"', '\"ENGBIOM\"', [16, 16, 20, 14]], ['\"a95\"', '\"Íris Soraia Chiote\"', '\"LEI\"', [11, 11, 17, 16]], ['\"a96\"', '\"Anaïs Sintra\"', '\"LCC\"', [19, 19, 12, 9]], ['\"a97\"', '\"Salvador Banaca\"', '\"LCC\"', [12, 9, 20, 12]], ['\"a98\"', '\"Guilherme Matias Almeirão\"', '\"ENGFIS\"', [14, 9, 12, 11]], ['\"a99\"', '\"Xavier Luís Bulha\"', '\"ENGFIS\"', [17, 13, 8, 10]], ['\"a100\"', '\"Tude Searas\"', '\"LEI\"', [20, 17, 8, 14]]]\n"
     ]
    }
   ],
   "source": [
    "BDalunos = lerDataset(\"alunos.csv\")\n",
    "print(BDalunos)"
   ]
  },
  {
   "cell_type": "markdown",
   "metadata": {},
   "source": [
    "## Listagem (exercício 2)\n",
    "\n",
    "Especifica uma função que faça a listagem no monitor dos vários registos de informação.\n",
    "Tenta dar a forma duma tabela em que as colunas têm todas a mesma dimensão."
   ]
  },
  {
   "cell_type": "code",
   "execution_count": 4,
   "metadata": {},
   "outputs": [],
   "source": [
    "# Listagem da informação\n",
    "def listarDataset(bd):\n",
    "    print(\"id      |nome                |curso               |média\")\n",
    "    print(\"________________________________________________________\")\n",
    "    for a in bd:\n",
    "        print(a[0] + ' | ' + a[1] + ' | ' + a[2] + ' | ' + str(sum(a[3])/len(a[3])))"
   ]
  },
  {
   "cell_type": "code",
   "execution_count": 5,
   "metadata": {},
   "outputs": [
    {
     "name": "stdout",
     "output_type": "stream",
     "text": [
      "id      |nome                |curso               |média\n",
      "________________________________________________________\n",
      "\"a1\" | \"Aysha Melanie Gilberto\" | \"LEI\" | 11.75\n",
      "\"a2\" | \"Igor André Cantanhede\" | \"ENGFIS\" | 16.5\n",
      "\"a3\" | \"Laurénio Narciso\" | \"ENGFIS\" | 12.75\n",
      "\"a4\" | \"Jasnoor Casegas\" | \"LCC\" | 15.5\n",
      "\"a5\" | \"Tawseef Rebouças\" | \"ENGBIOM\" | 14.25\n",
      "\"a6\" | \"Eryk Clementino\" | \"LEI\" | 13.5\n",
      "\"a7\" | \"Ianna Noivo\" | \"ENGBIOM\" | 15.75\n",
      "\"a8\" | \"Ayla Thaissa Reina\" | \"ENGBIOM\" | 11.5\n",
      "\"a9\" | \"Cássia Viviane Coitã\" | \"ENGFIS\" | 13.0\n",
      "\"a10\" | \"Koby Vindima\" | \"LEI\" | 14.0\n",
      "\"a11\" | \"Gustavo Martim Hernandez\" | \"ENGBIOM\" | 11.0\n",
      "\"a12\" | \"Siddarta Beiriz\" | \"LEI\" | 14.75\n",
      "\"a13\" | \"Daniela Patrícia Montes\" | \"ENGBIOM\" | 16.75\n",
      "\"a14\" | \"Kaylla Pessego\" | \"LCC\" | 14.0\n",
      "\"a15\" | \"Bianca Cristina Primitivo\" | \"ENGBIOM\" | 13.25\n",
      "\"a16\" | \"Magna Galhardo\" | \"ENGFIS\" | 15.25\n",
      "\"a17\" | \"Grace Isabel Patriarca\" | \"LCC\" | 12.75\n",
      "\"a18\" | \"Saubhagya Buco\" | \"LEI\" | 15.25\n",
      "\"a19\" | \"Ivo Vicente Boisa\" | \"ENGBIOM\" | 13.75\n",
      "\"a20\" | \"Vivaan Castilhos\" | \"ENGFIS\" | 13.0\n",
      "\"a21\" | \"Layana Camejo\" | \"ENGFIS\" | 14.75\n",
      "\"a22\" | \"Mahdi Menoita\" | \"ENGFIS\" | 12.75\n",
      "\"a23\" | \"Yifan Cortinado\" | \"LEI\" | 15.25\n",
      "\"a24\" | \"Éder Sodré\" | \"ENGFIS\" | 14.0\n",
      "\"a25\" | \"Dhriti Magano\" | \"ENGFIS\" | 14.25\n",
      "\"a26\" | \"Steve Devesa\" | \"ENGBIOM\" | 11.75\n",
      "\"a27\" | \"Lisandro Mariano Picassinos\" | \"ENGFIS\" | 12.25\n",
      "\"a28\" | \"Itiel Quinoy\" | \"LEI\" | 13.25\n",
      "\"a29\" | \"Pranika Reimoo\" | \"LEI\" | 14.0\n",
      "\"a30\" | \"Manaia Viseu\" | \"ENGFIS\" | 12.75\n",
      "\"a31\" | \"Eva Manuel Caio\" | \"ENGFIS\" | 16.0\n",
      "\"a32\" | \"Ariane Sofia Foja\" | \"LEI\" | 17.5\n",
      "\"a33\" | \"Jaime António Pauseiro\" | \"LCC\" | 12.5\n",
      "\"a34\" | \"Tanisha Marzagoo\" | \"ENGBIOM\" | 15.0\n",
      "\"a35\" | \"Siyon Anca\" | \"LEI\" | 13.75\n",
      "\"a36\" | \"Diana Beatriz Boavista\" | \"LCC\" | 16.5\n",
      "\"a37\" | \"Elisiário Saberio\" | \"ENGFIS\" | 16.25\n",
      "\"a38\" | \"Maira Brites\" | \"ENGFIS\" | 15.25\n",
      "\"a39\" | \"Victória Gabriela Incenso\" | \"LEI\" | 13.0\n",
      "\"a40\" | \"Najua Serôdio\" | \"LCC\" | 15.0\n",
      "\"a41\" | \"Lachezar Rosas\" | \"ENGBIOM\" | 16.75\n",
      "\"a42\" | \"Kattleya Trigueiro\" | \"ENGFIS\" | 16.0\n",
      "\"a43\" | \"Tatiana Guiomar Maricoto\" | \"LCC\" | 13.25\n",
      "\"a44\" | \"Mélanie Daniela Bugalhão\" | \"LCC\" | 15.25\n",
      "\"a45\" | \"Imayame Hespanha\" | \"ENGFIS\" | 16.75\n",
      "\"a46\" | \"Yuri Gabriel Baganha\" | \"LCC\" | 15.25\n",
      "\"a47\" | \"Moisés João Cornelio\" | \"LEI\" | 18.0\n",
      "\"a48\" | \"Nazir Assif Trinta\" | \"LEI\" | 12.0\n",
      "\"a49\" | \"Karamjot Arezes\" | \"LEI\" | 12.75\n",
      "\"a50\" | \"Rishit Justa\" | \"ENGBIOM\" | 9.75\n",
      "\"a51\" | \"Iara de Jesus Gonçalo\" | \"ENGFIS\" | 12.0\n",
      "\"a52\" | \"Stepfan Owusu Lercas\" | \"LEI\" | 14.25\n",
      "\"a53\" | \"Abner Umbelina\" | \"ENGBIOM\" | 14.75\n",
      "\"a54\" | \"Dânia Lucy Montelobo\" | \"LEI\" | 15.75\n",
      "\"a55\" | \"Myla Lopez\" | \"ENGFIS\" | 14.5\n",
      "\"a56\" | \"Hakeem Brazão\" | \"LEI\" | 17.25\n",
      "\"a57\" | \"Quinn Aveiro\" | \"ENGBIOM\" | 13.75\n",
      "\"a58\" | \"Etienne Constentino\" | \"ENGBIOM\" | 11.25\n",
      "\"a59\" | \"Emanuel Marcos Delfina\" | \"LEI\" | 11.25\n",
      "\"a60\" | \"Mariana Catarina Ramalheira\" | \"ENGBIOM\" | 16.5\n",
      "\"a61\" | \"Bradley Tabau\" | \"LCC\" | 15.75\n",
      "\"a62\" | \"Ahmadou Bamba Calcinha\" | \"LCC\" | 14.25\n",
      "\"a63\" | \"Francisco Pedro Derresa\" | \"ENGFIS\" | 14.5\n",
      "\"a64\" | \"Gil Miguel Lima\" | \"ENGBIOM\" | 14.25\n",
      "\"a65\" | \"Leonor Pedro Carqueijeiro\" | \"ENGBIOM\" | 13.75\n",
      "\"a66\" | \"Genrikh Maximovich Vila-Chã\" | \"ENGFIS\" | 12.25\n",
      "\"a67\" | \"Mayra Larissa Rolo\" | \"LCC\" | 14.5\n",
      "\"a68\" | \"Leandro David Dunhoo\" | \"ENGBIOM\" | 13.75\n",
      "\"a69\" | \"Adele Belchior\" | \"ENGBIOM\" | 15.25\n",
      "\"a70\" | \"Frantceska Borreca\" | \"ENGFIS\" | 14.0\n",
      "\"a71\" | \"Derrick Urias\" | \"ENGFIS\" | 10.75\n",
      "\"a72\" | \"Ana Gabriel Quirino\" | \"LCC\" | 13.5\n",
      "\"a73\" | \"Carolina Antoo\" | \"ENGBIOM\" | 16.25\n",
      "\"a74\" | \"Vânia Sofia Porfirio\" | \"ENGBIOM\" | 17.5\n",
      "\"a75\" | \"Dárcio Wosvaldo Tudela\" | \"LEI\" | 13.25\n",
      "\"a76\" | \"Zhara Couxão\" | \"ENGFIS\" | 13.0\n",
      "\"a77\" | \"Tomé Ferrito\" | \"LCC\" | 14.5\n",
      "\"a78\" | \"Iasmin Paloma Chaveiro\" | \"LCC\" | 12.75\n",
      "\"a79\" | \"Sadagi Cruto\" | \"ENGBIOM\" | 15.75\n",
      "\"a80\" | \"Maria Carolina Josué\" | \"ENGFIS\" | 18.0\n",
      "\"a81\" | \"Quaresma Lancastre\" | \"ENGBIOM\" | 15.25\n",
      "\"a82\" | \"Evaldir Gervasio\" | \"ENGFIS\" | 14.5\n",
      "\"a83\" | \"Dolorinda Adolfo\" | \"ENGFIS\" | 13.75\n",
      "\"a84\" | \"Laudário Frasão\" | \"LCC\" | 17.0\n",
      "\"a85\" | \"Rómula Jeronimo\" | \"ENGFIS\" | 11.5\n",
      "\"a86\" | \"Clésio Rodeiro\" | \"LCC\" | 13.0\n",
      "\"a87\" | \"Feliciano José Avis\" | \"ENGFIS\" | 9.75\n",
      "\"a88\" | \"Afonso Adriano Marca\" | \"ENGBIOM\" | 12.75\n",
      "\"a89\" | \"Victória Miguel Rosete\" | \"ENGFIS\" | 13.0\n",
      "\"a90\" | \"Tome Teroso\" | \"ENGFIS\" | 11.25\n",
      "\"a91\" | \"Constança Filipa Melado\" | \"LEI\" | 12.5\n",
      "\"a92\" | \"Madalena Jesus Alfaiate\" | \"LEI\" | 14.25\n",
      "\"a93\" | \"Bivhan Reimbau\" | \"LCC\" | 12.0\n",
      "\"a94\" | \"Viviana Sofia Gaspar\" | \"ENGBIOM\" | 16.5\n",
      "\"a95\" | \"Íris Soraia Chiote\" | \"LEI\" | 13.75\n",
      "\"a96\" | \"Anaïs Sintra\" | \"LCC\" | 14.75\n",
      "\"a97\" | \"Salvador Banaca\" | \"LCC\" | 13.25\n",
      "\"a98\" | \"Guilherme Matias Almeirão\" | \"ENGFIS\" | 11.5\n",
      "\"a99\" | \"Xavier Luís Bulha\" | \"ENGFIS\" | 12.0\n",
      "\"a100\" | \"Tude Searas\" | \"LEI\" | 14.75\n"
     ]
    }
   ],
   "source": [
    "listarDataset(BDalunos)"
   ]
  },
  {
   "cell_type": "markdown",
   "metadata": {},
   "source": [
    "## Consulta de um registo (exercício 3)\n",
    "\n",
    "Especifica uma função que, dado o id de um aluno, coloca a sua informação no monitor. Para além disso, indica também a média dos TPC realizados."
   ]
  },
  {
   "cell_type": "code",
   "execution_count": 6,
   "metadata": {},
   "outputs": [],
   "source": [
    "# Consulta de um registo\n",
    "def consultarDataset(bd, id):\n",
    "    inf = []\n",
    "    for aluno in bd:\n",
    "        if (id == aluno[0]) :\n",
    "                inf.append(aluno[0])\n",
    "                inf.append(aluno[1])\n",
    "                inf.append(aluno[2])\n",
    "                for tpc in aluno[3]:  \n",
    "                    media = int(sum(a[3])/ len(a[3]))\n",
    "                    inf.append(media)\n",
    "                print(inf)\n",
    "        else:        \n",
    "            print(\"Id inválido.\")\n",
    "    \n"
   ]
  },
  {
   "cell_type": "code",
   "execution_count": 7,
   "metadata": {},
   "outputs": [
    {
     "name": "stdout",
     "output_type": "stream",
     "text": [
      "Id inválido.\n",
      "Id inválido.\n",
      "Id inválido.\n",
      "Id inválido.\n",
      "Id inválido.\n",
      "Id inválido.\n",
      "Id inválido.\n",
      "Id inválido.\n",
      "Id inválido.\n",
      "Id inválido.\n",
      "Id inválido.\n",
      "Id inválido.\n",
      "Id inválido.\n",
      "Id inválido.\n",
      "Id inválido.\n",
      "Id inválido.\n",
      "Id inválido.\n",
      "Id inválido.\n",
      "Id inválido.\n",
      "Id inválido.\n",
      "Id inválido.\n",
      "Id inválido.\n",
      "Id inválido.\n",
      "Id inválido.\n",
      "Id inválido.\n",
      "Id inválido.\n",
      "Id inválido.\n",
      "Id inválido.\n",
      "Id inválido.\n",
      "Id inválido.\n",
      "Id inválido.\n",
      "Id inválido.\n",
      "Id inválido.\n",
      "Id inválido.\n",
      "Id inválido.\n",
      "Id inválido.\n",
      "Id inválido.\n",
      "Id inválido.\n",
      "Id inválido.\n",
      "Id inválido.\n",
      "Id inválido.\n",
      "Id inválido.\n",
      "Id inválido.\n",
      "Id inválido.\n",
      "Id inválido.\n",
      "Id inválido.\n",
      "Id inválido.\n",
      "Id inválido.\n",
      "Id inválido.\n",
      "Id inválido.\n",
      "Id inválido.\n",
      "Id inválido.\n",
      "Id inválido.\n",
      "Id inválido.\n",
      "Id inválido.\n",
      "Id inválido.\n",
      "Id inválido.\n",
      "Id inválido.\n",
      "Id inválido.\n",
      "Id inválido.\n",
      "Id inválido.\n",
      "Id inválido.\n",
      "Id inválido.\n",
      "Id inválido.\n",
      "Id inválido.\n",
      "Id inválido.\n",
      "Id inválido.\n",
      "Id inválido.\n",
      "Id inválido.\n",
      "Id inválido.\n",
      "Id inválido.\n",
      "Id inválido.\n",
      "Id inválido.\n",
      "Id inválido.\n",
      "Id inválido.\n",
      "Id inválido.\n",
      "Id inválido.\n",
      "Id inválido.\n",
      "Id inválido.\n",
      "Id inválido.\n",
      "Id inválido.\n",
      "Id inválido.\n",
      "Id inválido.\n",
      "Id inválido.\n",
      "Id inválido.\n",
      "Id inválido.\n",
      "Id inválido.\n",
      "Id inválido.\n",
      "Id inválido.\n",
      "Id inválido.\n",
      "Id inválido.\n",
      "Id inválido.\n",
      "Id inválido.\n",
      "Id inválido.\n",
      "Id inválido.\n",
      "Id inválido.\n",
      "Id inválido.\n",
      "Id inválido.\n",
      "Id inválido.\n",
      "Id inválido.\n"
     ]
    }
   ],
   "source": [
    "consultarDataset(BDalunos, \"a13\")"
   ]
  },
  {
   "cell_type": "code",
   "execution_count": 8,
   "metadata": {},
   "outputs": [],
   "source": [
    "def consultar(bd, id):\n",
    "    encontrado = False\n",
    "    i = 0\n",
    "    inf = []\n",
    "    while (not encontrado) and (i <len(bd)):\n",
    "        if bd[i][0] == id:\n",
    "            encontrado = True\n",
    "            media = int(sum(bd[i][3])/ len(bd[i][3]))\n",
    "            inf.append(bd[i][0])\n",
    "            inf.append(bd[i][1])\n",
    "            inf.append(bd[i][2])\n",
    "            inf.append(media)\n",
    "            print(inf)\n",
    "           \n",
    "        else:\n",
    "             i = i + 1\n",
    "                       \n",
    "    else:\n",
    "        print(\"ERRO: Id inexistente na BD!\")"
   ]
  },
  {
   "cell_type": "code",
   "execution_count": 9,
   "metadata": {},
   "outputs": [
    {
     "name": "stdout",
     "output_type": "stream",
     "text": [
      "ERRO: Id inexistente na BD!\n"
     ]
    }
   ],
   "source": [
    "consultar(BDalunos, \"a13\")"
   ]
  },
  {
   "cell_type": "markdown",
   "metadata": {},
   "source": [
    "## Top 10 (exercício 4)\n",
    "\n",
    "Especifica um função que dá como resultado uma lista com os alunos com as 10 médias mais altas: id, nome, curso, média."
   ]
  },
  {
   "cell_type": "code",
   "execution_count": 20,
   "metadata": {},
   "outputs": [],
   "source": [
    "def chaveOrd(aluno):\n",
    "    return (aluno[3])\n",
    "\n",
    "def top10(bd):\n",
    "    for aluno in bd: \n",
    "        aluno[3] = int(sum(aluno[3])/len(aluno[3]))\n",
    "    bd.sort(key = chaveOrd, reverse = True)\n",
    "    top10 = bd[0:10]\n",
    "    return (top10)\n",
    "        \n"
   ]
  },
  {
   "cell_type": "code",
   "execution_count": 21,
   "metadata": {},
   "outputs": [
    {
     "data": {
      "text/plain": [
       "[['\"a47\"', '\"Moisés João Cornelio\"', '\"LEI\"', 18],\n",
       " ['\"a80\"', '\"Maria Carolina Josué\"', '\"ENGFIS\"', 18],\n",
       " ['\"a32\"', '\"Ariane Sofia Foja\"', '\"LEI\"', 17],\n",
       " ['\"a56\"', '\"Hakeem Brazão\"', '\"LEI\"', 17],\n",
       " ['\"a74\"', '\"Vânia Sofia Porfirio\"', '\"ENGBIOM\"', 17],\n",
       " ['\"a84\"', '\"Laudário Frasão\"', '\"LCC\"', 17],\n",
       " ['\"a2\"', '\"Igor André Cantanhede\"', '\"ENGFIS\"', 16],\n",
       " ['\"a13\"', '\"Daniela Patrícia Montes\"', '\"ENGBIOM\"', 16],\n",
       " ['\"a31\"', '\"Eva Manuel Caio\"', '\"ENGFIS\"', 16],\n",
       " ['\"a36\"', '\"Diana Beatriz Boavista\"', '\"LCC\"', 16]]"
      ]
     },
     "execution_count": 21,
     "metadata": {},
     "output_type": "execute_result"
    }
   ],
   "source": [
    "top10(BDalunos)"
   ]
  },
  {
   "cell_type": "markdown",
   "metadata": {},
   "source": [
    "## Distribuição por curso (exercício 5)\n",
    "\n",
    "Especifica uma função que dá como resultado uma lista de pares indicando quantos alunos há em cada curso."
   ]
  },
  {
   "cell_type": "code",
   "execution_count": 12,
   "metadata": {},
   "outputs": [],
   "source": [
    "def distribPorCurso(bd):\n",
    "    distribuicao = {}\n",
    "    for a in bd:\n",
    "        if a[2] in distribuicao.keys():\n",
    "            distribuicao[a[2]] =  distribuicao[a[2]] + 1\n",
    "        else:\n",
    "             distribuicao[a[2]] = 1\n",
    "    return distribuicao"
   ]
  },
  {
   "cell_type": "code",
   "execution_count": 13,
   "metadata": {},
   "outputs": [
    {
     "data": {
      "text/plain": [
       "{'\"LEI\"': 23, '\"ENGFIS\"': 32, '\"LCC\"': 20, '\"ENGBIOM\"': 25}"
      ]
     },
     "execution_count": 13,
     "metadata": {},
     "output_type": "execute_result"
    }
   ],
   "source": [
    "distribPorCurso(BDalunos)\n"
   ]
  },
  {
   "cell_type": "markdown",
   "metadata": {},
   "source": [
    "## Distribuição por médias (exercício 6)\n",
    "\n",
    "Especifica uma função que dá como resultado uma lista de pares, média e número de alunos com essa média (considera o valor inteiro da média)."
   ]
  },
  {
   "cell_type": "code",
   "execution_count": 14,
   "metadata": {},
   "outputs": [],
   "source": [
    "def distribPorMedia(bd):\n",
    "    distribuicao = {}\n",
    "    for a in bd:\n",
    "        for tpc in a[3]:\n",
    "            media = int(sum(a[3])/ len(a[3]))\n",
    "            if media in distribuicao.keys():\n",
    "                distribuicao[media] = distribuicao[media] + 1\n",
    "            else:\n",
    "                distribuicao[media] = 1\n",
    "    return distribuicao"
   ]
  },
  {
   "cell_type": "code",
   "execution_count": 15,
   "metadata": {},
   "outputs": [
    {
     "data": {
      "text/plain": [
       "{11: 36, 16: 44, 12: 60, 15: 60, 14: 84, 13: 80, 17: 16, 18: 8, 9: 8, 10: 4}"
      ]
     },
     "execution_count": 15,
     "metadata": {},
     "output_type": "execute_result"
    }
   ],
   "source": [
    "distribPorMedia(BDalunos)"
   ]
  },
  {
   "cell_type": "markdown",
   "metadata": {},
   "source": [
    "# Gráficos\n",
    "\n",
    "## Gráfico da distribuição por curso (exercício 7)\n",
    "\n",
    "Especifica uma função que faz o plot dum gráfico (de barras) com a distribuição de alunos por curso."
   ]
  },
  {
   "cell_type": "code",
   "execution_count": 16,
   "metadata": {},
   "outputs": [],
   "source": [
    "import matplotlib.pyplot as plt\n",
    "\n",
    "def plotDistribPorCurso(bd):\n",
    "    nomeCurso = distribPorCurso(bd) #Retirar nº e nome cursos\n",
    "    x = nomeCurso.keys()\n",
    "    \n",
    "    y =[]\n",
    "    for curso in x:\n",
    "        y.append(nomeCurso[curso]) #Retirar nº de alunos \n",
    "\n",
    "    plt.bar(x, y, width = 0.8, color = ['red', 'green'])  \n",
    "   \n",
    "    plt.xlabel('Cursos')\n",
    "    plt.ylabel('Nº de Alunos')\n",
    "    plt.title('Distribuição dos Alunos por Curso!')\n",
    "    plt.show()"
   ]
  },
  {
   "cell_type": "code",
   "execution_count": 17,
   "metadata": {},
   "outputs": [
    {
     "data": {
      "image/png": "[encoded data removed]",
      "text/plain": [
       "<Figure size 432x288 with 1 Axes>"
      ]
     },
     "metadata": {
      "needs_background": "light"
     },
     "output_type": "display_data"
    }
   ],
   "source": [
    "plotDistribPorCurso(BDalunos)"
   ]
  },
  {
   "cell_type": "markdown",
   "metadata": {},
   "source": [
    "## Gráfico da distribuição por média (exercício 8)\n",
    "\n",
    "Especifica uma função que faz o plot dum gráfico com a distribuição de alunos por média."
   ]
  },
  {
   "cell_type": "code",
   "execution_count": 18,
   "metadata": {},
   "outputs": [],
   "source": [
    "import matplotlib.pyplot as plt\n",
    "def plotDistribPorMedia(bd):\n",
    "    valorMedia = distribPorMedia(bd) \n",
    "    x = valorMedia.keys()   #Retirar valores media\n",
    "    \n",
    "    y =[]\n",
    "    for i in x:\n",
    "        y.append(valorMedia[i]) #Retirar o nº de alunos por media\n",
    "    \n",
    "    plt.bar(x, y, width = 0.8, color = ['red', 'green'])  \n",
    "    \n",
    "    plt.xlabel('Média')\n",
    "    plt.ylabel('Nº de alunos')\n",
    "    plt.title('Número de alunos por média')\n",
    "    \n",
    "    plt.show()\n",
    "    \n",
    "    "
   ]
  },
  {
   "cell_type": "code",
   "execution_count": 19,
   "metadata": {},
   "outputs": [
    {
     "data": {
      "image/png": "[encoded data removed]",
      "text/plain": [
       "<Figure size 432x288 with 1 Axes>"
      ]
     },
     "metadata": {
      "needs_background": "light"
     },
     "output_type": "display_data"
    }
   ],
   "source": [
    "plotDistribPorMedia(BDalunos)"
   ]
  },
  {
   "cell_type": "code",
   "execution_count": null,
   "metadata": {},
   "outputs": [],
   "source": []
  }
 ],
 "metadata": {
  "interpreter": {
   "hash": "aee8b7b246df8f9039afb4144a1f6fd8d2ca17a180786b69acc140d282b71a49"
  },
  "kernelspec": {
   "display_name": "Python 3",
   "language": "python",
   "name": "python3"
  },
  "language_info": {
   "codemirror_mode": {
    "name": "ipython",
    "version": 3
   },
   "file_extension": ".py",
   "mimetype": "text/x-python",
   "name": "python",
   "nbconvert_exporter": "python",
   "pygments_lexer": "ipython3",
   "version": "3.8.3"
  }
 },
 "nbformat": 4,
 "nbformat_minor": 4
}
