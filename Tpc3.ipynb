{
 "cells": [
  {
   "cell_type": "markdown",
   "metadata": {},
   "source": [
    "### Bubble Sort e Função Menu\n",
    "\n"
   ]
  },
  {
   "cell_type": "markdown",
   "metadata": {},
   "source": [
    "* __key name__: Tpc3\n",
    "* __Identificador do trabalho ou projeto__: Tpc3\n",
    "* __Título__: Bubble Sort\n",
    "* __Subtítulo__: Algoritmo de trocas diretas\n",
    "* __Data Inicial__: 2021-10-21\n",
    "* __Data Fim__: 2021-10-28\n",
    "* __Supervisor__: José Carlos Ramalho,  https://www.di.uminho.pt/~jcr/\n",
    "* __Autor__: Mariana Gomes Martins, A97465\n",
    "* __Resumo__:\n",
    "\n",
    "    * A Implementação do __bubble sort__ consiste num __algoritmo de ordenação__ que consiste em percorrer um conjunto diversas vezes, comparando os elementos dois a dois e trocando-os de lugar se assim se justificar, até atingir objetivo final: um conjunto de elementos ordenados do menor para o maior. Este algoritmo termina assim que percorrer todo o conjunto e não realizar nenhuma troca.\n",
    "    * Para tal, foram utilizados __ciclos de repetição__, como por exemplo o ciclo *while*, __estruturas de condição__, tais como *if/else* e o ciclo *for* como forma de percorrer toda a lista. Por último, foram ainda utilizados __valores booleanos__, *True/False*, para controlar as trocas e permitir que o ciclo termine assim que não se efetuar nenhuma troca na leitura completa do conjunto.\n",
    "    \n",
    "   \n",
    "    "
   ]
  },
  {
   "cell_type": "markdown",
   "metadata": {},
   "source": [
    "## Bubble Sort\n"
   ]
  },
  {
   "cell_type": "markdown",
   "metadata": {},
   "source": [
    "###### Algoritmo de trocas diretas"
   ]
  },
  {
   "cell_type": "code",
   "execution_count": 11,
   "metadata": {},
   "outputs": [
    {
     "name": "stdout",
     "output_type": "stream",
     "text": [
      "[-13, 0, 2, 3, 4, 6, 14, 17, 100, 3131]\n"
     ]
    }
   ],
   "source": [
    "def ordenar(lista):\n",
    "    trocas = True\n",
    "    while trocas == True:\n",
    "        trocas = False\n",
    "        for i in range(len(lista)-1): #Percorrer toda a lista por indices\n",
    "            if lista[i] > lista[i+1]:\n",
    "                valortemp = lista[i]\n",
    "                lista[i] = lista[i+1]\n",
    "                lista[i+1] = valortemp\n",
    "                \n",
    "                trocas = True\n",
    "                \n",
    "            else:\n",
    "                i = i + 1\n",
    "        \n",
    "lista = [17, 2, 3131, 6, 4, 14, 3, 100, -13, 0] #lista exemplo\n",
    "ordenar(lista)\n",
    "print(lista)"
   ]
  },
  {
   "cell_type": "markdown",
   "metadata": {},
   "source": [
    "# Função Menu"
   ]
  },
  {
   "cell_type": "markdown",
   "metadata": {},
   "source": [
    "### Função criar lista a introduzir valores"
   ]
  },
  {
   "cell_type": "code",
   "execution_count": 22,
   "metadata": {},
   "outputs": [
    {
     "name": "stdin",
     "output_type": "stream",
     "text": [
      "Introduza o nº de elementos da lista:  3\n",
      "Intoduza o elemento 1:  5\n",
      "Intoduza o elemento 2:  6\n",
      "Intoduza o elemento 3:  4\n"
     ]
    },
    {
     "name": "stdout",
     "output_type": "stream",
     "text": [
      "[5, 6, 4]\n"
     ]
    }
   ],
   "source": [
    "def criarListaIn():\n",
    "    lista=[]\n",
    "    n= int(input(\"Introduza o nº de elementos da lista: \"))\n",
    "    for i in range(n): #Percorrer toda a lista através indice e pedir CADA elemento\n",
    "        elemento = int(input(\"Intoduza o elemento \" + str(i+1) + \": \")) #Varia nº elemento\n",
    "        lista.append(elemento)\n",
    "        \n",
    "    return lista\n",
    "\n",
    "l=criarListaIn()\n",
    "print(l)  "
   ]
  },
  {
   "cell_type": "markdown",
   "metadata": {},
   "source": [
    "### Criar lista Aleatória"
   ]
  },
  {
   "cell_type": "code",
   "execution_count": 13,
   "metadata": {},
   "outputs": [
    {
     "name": "stdin",
     "output_type": "stream",
     "text": [
      "Introduza o nº de elementos:  5\n"
     ]
    },
    {
     "name": "stdout",
     "output_type": "stream",
     "text": [
      "[2, 2, 9, 9, 1]\n"
     ]
    }
   ],
   "source": [
    "def criarListaA(): \n",
    "    from random import randrange #import random\n",
    "    lista=[]\n",
    "    n=int(input(\"Introduza o nº de elementos: \"))\n",
    "    i=1\n",
    "    \n",
    "    while len(lista)<n:\n",
    "        elemento = randrange(0, 10, 1)\n",
    "        lista.append(elemento)\n",
    "    return lista\n",
    "\n",
    "l2= criarListaA()\n",
    "print(l2)\n"
   ]
  },
  {
   "cell_type": "markdown",
   "metadata": {},
   "source": [
    "### Bubble Sort\n"
   ]
  },
  {
   "cell_type": "code",
   "execution_count": 14,
   "metadata": {},
   "outputs": [
    {
     "name": "stdout",
     "output_type": "stream",
     "text": [
      "[-13, 0, 2, 3, 4, 6, 14, 17, 100, 3131]\n"
     ]
    }
   ],
   "source": [
    "def bubbleSort():\n",
    "    trocas = True\n",
    "    while trocas == True:\n",
    "        trocas = False\n",
    "        for i in range(len(lista)-1): #Percorrer toda a lista por indices\n",
    "            if lista[i] > lista[i+1]:\n",
    "                valortemp = lista[i]\n",
    "                lista[i] = lista[i+1]\n",
    "                lista[i+1] = valortemp\n",
    "                \n",
    "                trocas = True\n",
    "                \n",
    "            else:\n",
    "                i = i + 1\n",
    "        \n",
    "print(lista)"
   ]
  },
  {
   "cell_type": "markdown",
   "metadata": {},
   "source": [
    "### Soma elementos lista"
   ]
  },
  {
   "cell_type": "code",
   "execution_count": 16,
   "metadata": {},
   "outputs": [
    {
     "name": "stdout",
     "output_type": "stream",
     "text": [
      "33\n"
     ]
    }
   ],
   "source": [
    "def soma(lista):\n",
    "    soma=0\n",
    "    for j in lista:\n",
    "        soma = soma + j\n",
    "    return soma        \n",
    "\n",
    "s = soma(lista)\n",
    "print(s)"
   ]
  },
  {
   "cell_type": "markdown",
   "metadata": {},
   "source": [
    "### Media elementos lista"
   ]
  },
  {
   "cell_type": "code",
   "execution_count": 17,
   "metadata": {},
   "outputs": [
    {
     "name": "stdout",
     "output_type": "stream",
     "text": [
      "5.5\n"
     ]
    }
   ],
   "source": [
    "def media(lista):\n",
    "    for j in lista:\n",
    "        media = (soma(lista)/(len(lista)))\n",
    "    return media\n",
    "\n",
    "m=media(lista)\n",
    "print(m)"
   ]
  },
  {
   "cell_type": "markdown",
   "metadata": {},
   "source": [
    "# Função Menu"
   ]
  },
  {
   "cell_type": "code",
   "execution_count": 24,
   "metadata": {},
   "outputs": [
    {
     "name": "stdout",
     "output_type": "stream",
     "text": [
      " (1) Gerar uma lista manualmente;\n",
      "    (2) Gerar uma lista de valores aleatórios;\n",
      "    (3) Escrever lista corrente no stdout;\n",
      "    (4) Limpar a lista corrente;\n",
      "    (5) Ordenar com o bubble sort;\n",
      "    (6) Somar elementos da lista;\n",
      "    (7) Média elementos da lista;\n",
      "    (0) Sair\n"
     ]
    },
    {
     "name": "stdin",
     "output_type": "stream",
     "text": [
      "Introduza uma opção:  2\n",
      "Introduza o nº de elementos:  5\n"
     ]
    },
    {
     "name": "stdout",
     "output_type": "stream",
     "text": [
      " (1) Gerar uma lista manualmente;\n",
      "    (2) Gerar uma lista de valores aleatórios;\n",
      "    (3) Escrever lista corrente no stdout;\n",
      "    (4) Limpar a lista corrente;\n",
      "    (5) Ordenar com o bubble sort;\n",
      "    (6) Somar elementos da lista;\n",
      "    (7) Média elementos da lista;\n",
      "    (0) Sair\n"
     ]
    },
    {
     "name": "stdin",
     "output_type": "stream",
     "text": [
      "Introduza uma opção:  3\n"
     ]
    },
    {
     "name": "stdout",
     "output_type": "stream",
     "text": [
      "[2, 0, 7, 3, 0]\n",
      " (1) Gerar uma lista manualmente;\n",
      "    (2) Gerar uma lista de valores aleatórios;\n",
      "    (3) Escrever lista corrente no stdout;\n",
      "    (4) Limpar a lista corrente;\n",
      "    (5) Ordenar com o bubble sort;\n",
      "    (6) Somar elementos da lista;\n",
      "    (7) Média elementos da lista;\n",
      "    (0) Sair\n"
     ]
    },
    {
     "name": "stdin",
     "output_type": "stream",
     "text": [
      "Introduza uma opção:  6\n"
     ]
    },
    {
     "name": "stdout",
     "output_type": "stream",
     "text": [
      "12\n",
      " (1) Gerar uma lista manualmente;\n",
      "    (2) Gerar uma lista de valores aleatórios;\n",
      "    (3) Escrever lista corrente no stdout;\n",
      "    (4) Limpar a lista corrente;\n",
      "    (5) Ordenar com o bubble sort;\n",
      "    (6) Somar elementos da lista;\n",
      "    (7) Média elementos da lista;\n",
      "    (0) Sair\n"
     ]
    },
    {
     "name": "stdin",
     "output_type": "stream",
     "text": [
      "Introduza uma opção:  7\n"
     ]
    },
    {
     "name": "stdout",
     "output_type": "stream",
     "text": [
      "2.4\n",
      " (1) Gerar uma lista manualmente;\n",
      "    (2) Gerar uma lista de valores aleatórios;\n",
      "    (3) Escrever lista corrente no stdout;\n",
      "    (4) Limpar a lista corrente;\n",
      "    (5) Ordenar com o bubble sort;\n",
      "    (6) Somar elementos da lista;\n",
      "    (7) Média elementos da lista;\n",
      "    (0) Sair\n"
     ]
    },
    {
     "name": "stdin",
     "output_type": "stream",
     "text": [
      "Introduza uma opção:  3\n"
     ]
    },
    {
     "name": "stdout",
     "output_type": "stream",
     "text": [
      "[2, 0, 7, 3, 0]\n",
      " (1) Gerar uma lista manualmente;\n",
      "    (2) Gerar uma lista de valores aleatórios;\n",
      "    (3) Escrever lista corrente no stdout;\n",
      "    (4) Limpar a lista corrente;\n",
      "    (5) Ordenar com o bubble sort;\n",
      "    (6) Somar elementos da lista;\n",
      "    (7) Média elementos da lista;\n",
      "    (0) Sair\n"
     ]
    },
    {
     "name": "stdin",
     "output_type": "stream",
     "text": [
      "Introduza uma opção:  5\n"
     ]
    },
    {
     "name": "stdout",
     "output_type": "stream",
     "text": [
      "None\n",
      " (1) Gerar uma lista manualmente;\n",
      "    (2) Gerar uma lista de valores aleatórios;\n",
      "    (3) Escrever lista corrente no stdout;\n",
      "    (4) Limpar a lista corrente;\n",
      "    (5) Ordenar com o bubble sort;\n",
      "    (6) Somar elementos da lista;\n",
      "    (7) Média elementos da lista;\n",
      "    (0) Sair\n"
     ]
    },
    {
     "name": "stdin",
     "output_type": "stream",
     "text": [
      "Introduza uma opção:  0\n"
     ]
    },
    {
     "name": "stdout",
     "output_type": "stream",
     "text": [
      "Terminou!\n"
     ]
    }
   ],
   "source": [
    "def menu():\n",
    "    print(\"\"\" (1) Gerar uma lista manualmente;\n",
    "    (2) Gerar uma lista de valores aleatórios;\n",
    "    (3) Escrever lista corrente no stdout;\n",
    "    (4) Limpar a lista corrente;\n",
    "    (5) Ordenar com o bubble sort;\n",
    "    (6) Somar elementos da lista;\n",
    "    (7) Média elementos da lista;\n",
    "    (0) Sair\"\"\")\n",
    "    \n",
    "    \n",
    "    \n",
    "lista = []\n",
    "opcao = \"-1\"\n",
    "while opcao != \"0\":\n",
    "    menu()\n",
    "    opcao= input(\"Introduza uma opção: \")\n",
    "    if opcao == \"1\":\n",
    "        lista = criarListaIn()\n",
    "        \n",
    "    elif opcao==\"2\":\n",
    "        lista = criarListaA()\n",
    "        \n",
    "    elif opcao == \"3\":\n",
    "        print(lista)\n",
    "        \n",
    "    elif opcao == \"4\":\n",
    "        lista.clear()\n",
    "        \n",
    "    elif opcao == \"5\":\n",
    "        b = bubbleSort()\n",
    "        print(b)\n",
    "             \n",
    "    elif opcao ==\"6\":\n",
    "        s = soma(lista)\n",
    "        print(s)\n",
    "    \n",
    "    elif opcao == \"7\":\n",
    "        m = media(lista)\n",
    "        print(m)\n",
    "        \n",
    "    elif opcao == \"0\":\n",
    "        print(\"Terminou!\")\n",
    "        \n",
    "        \n",
    "    else: \n",
    "        print(\"Opção Inválida!\")"
   ]
  }
 ],
 "metadata": {
  "kernelspec": {
   "display_name": "Python 3",
   "language": "python",
   "name": "python3"
  },
  "language_info": {
   "codemirror_mode": {
    "name": "ipython",
    "version": 3
   },
   "file_extension": ".py",
   "mimetype": "text/x-python",
   "name": "python",
   "nbconvert_exporter": "python",
   "pygments_lexer": "ipython3",
   "version": "3.8.3"
  }
 },
 "nbformat": 4,
 "nbformat_minor": 4
}
